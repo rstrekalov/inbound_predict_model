{
 "cells": [
  {
   "cell_type": "code",
   "execution_count": 88,
   "id": "82ca3487-a76b-494b-ae95-06fa34f2e271",
   "metadata": {},
   "outputs": [],
   "source": [
    "import pandas as pd\n",
    "import numpy as np\n",
    "import matplotlib.pyplot as plt\n",
    "import seaborn as sns\n",
    "from sklearn.model_selection import train_test_split, cross_val_score, GridSearchCV\n",
    "from sklearn.preprocessing import LabelEncoder, StandardScaler\n",
    "from sklearn.metrics import mean_absolute_error, mean_squared_error, r2_score\n",
    "from sklearn.metrics import mean_absolute_error, mean_squared_error, r2_score\n",
    "import lightgbm as lgb\n",
    "import warnings\n",
    "warnings.filterwarnings('ignore')"
   ]
  },
  {
   "cell_type": "code",
   "execution_count": 89,
   "id": "5a81ad89-baf6-4fbd-a930-ba3cc90a9c6b",
   "metadata": {},
   "outputs": [],
   "source": [
    "data = pd.read_csv(\"input_data.csv\")"
   ]
  },
  {
   "cell_type": "code",
   "execution_count": 90,
   "id": "7c0a9082-7723-43e9-971b-62bb6401bef8",
   "metadata": {},
   "outputs": [],
   "source": [
    "original_data = data.copy()\n",
    "original_data = original_data.dropna()\n",
    "original_data = original_data[original_data['warehouse_name']=='РЦ СБЛ ВЛГ-2 WMS']"
   ]
  },
  {
   "cell_type": "code",
   "execution_count": 91,
   "id": "f382479e-43b8-428d-9253-15a3d1fda2a4",
   "metadata": {},
   "outputs": [
    {
     "data": {
      "text/html": [
       "<div>\n",
       "<style scoped>\n",
       "    .dataframe tbody tr th:only-of-type {\n",
       "        vertical-align: middle;\n",
       "    }\n",
       "\n",
       "    .dataframe tbody tr th {\n",
       "        vertical-align: top;\n",
       "    }\n",
       "\n",
       "    .dataframe thead th {\n",
       "        text-align: right;\n",
       "    }\n",
       "</style>\n",
       "<table border=\"1\" class=\"dataframe\">\n",
       "  <thead>\n",
       "    <tr style=\"text-align: right;\">\n",
       "      <th></th>\n",
       "      <th>inbnd_type</th>\n",
       "      <th>warehouse_name</th>\n",
       "      <th>supplier_id</th>\n",
       "      <th>product_id</th>\n",
       "      <th>sku_name</th>\n",
       "      <th>sku_weight_kg</th>\n",
       "      <th>sku_volume_litr</th>\n",
       "      <th>sku_type</th>\n",
       "      <th>accepted_quantity</th>\n",
       "      <th>accepted_volume_litr</th>\n",
       "      <th>...</th>\n",
       "      <th>start_day</th>\n",
       "      <th>start_week</th>\n",
       "      <th>start_weekday</th>\n",
       "      <th>inbnd_duration_min_piece</th>\n",
       "      <th>storage_condition_code</th>\n",
       "      <th>fragile_flg</th>\n",
       "      <th>sku_category_level_1_nm</th>\n",
       "      <th>sku_category_level_2_nm</th>\n",
       "      <th>sku_category_level_3_nm</th>\n",
       "      <th>sku_category_level_4_nm</th>\n",
       "    </tr>\n",
       "  </thead>\n",
       "  <tbody>\n",
       "    <tr>\n",
       "      <th>0</th>\n",
       "      <td>Кросс-док</td>\n",
       "      <td>РЦ СБЛ ВЛГ-2 WMS</td>\n",
       "      <td>c7a48c69-0381-11e9-80c5-0cc47a817925</td>\n",
       "      <td>5b202213-4d80-11ee-b971-08c0eb32008b</td>\n",
       "      <td>Напиток кисломолочный Actimuno с клубникой, 1,...</td>\n",
       "      <td>0.102</td>\n",
       "      <td>0.196065</td>\n",
       "      <td>piece</td>\n",
       "      <td>216.0</td>\n",
       "      <td>42.349947</td>\n",
       "      <td>...</td>\n",
       "      <td>5</td>\n",
       "      <td>36</td>\n",
       "      <td>5</td>\n",
       "      <td>0.343052</td>\n",
       "      <td>MEDIUM_COLD</td>\n",
       "      <td>0</td>\n",
       "      <td>Молочная продукция</td>\n",
       "      <td>Кисломолочные современные продукты</td>\n",
       "      <td>Кисломолочные функциональные продукты</td>\n",
       "      <td>Кисломолочные функциональные продукты</td>\n",
       "    </tr>\n",
       "  </tbody>\n",
       "</table>\n",
       "<p>1 rows × 22 columns</p>\n",
       "</div>"
      ],
      "text/plain": [
       "  inbnd_type    warehouse_name                           supplier_id  \\\n",
       "0  Кросс-док  РЦ СБЛ ВЛГ-2 WMS  c7a48c69-0381-11e9-80c5-0cc47a817925   \n",
       "\n",
       "                             product_id  \\\n",
       "0  5b202213-4d80-11ee-b971-08c0eb32008b   \n",
       "\n",
       "                                            sku_name  sku_weight_kg  \\\n",
       "0  Напиток кисломолочный Actimuno с клубникой, 1,...          0.102   \n",
       "\n",
       "   sku_volume_litr sku_type  accepted_quantity  accepted_volume_litr  ...  \\\n",
       "0         0.196065    piece              216.0             42.349947  ...   \n",
       "\n",
       "  start_day  start_week  start_weekday  inbnd_duration_min_piece  \\\n",
       "0         5          36              5                  0.343052   \n",
       "\n",
       "   storage_condition_code  fragile_flg sku_category_level_1_nm  \\\n",
       "0             MEDIUM_COLD            0      Молочная продукция   \n",
       "\n",
       "              sku_category_level_2_nm                sku_category_level_3_nm  \\\n",
       "0  Кисломолочные современные продукты  Кисломолочные функциональные продукты   \n",
       "\n",
       "                 sku_category_level_4_nm  \n",
       "0  Кисломолочные функциональные продукты  \n",
       "\n",
       "[1 rows x 22 columns]"
      ]
     },
     "execution_count": 91,
     "metadata": {},
     "output_type": "execute_result"
    }
   ],
   "source": [
    "original_data.head(1)"
   ]
  },
  {
   "cell_type": "markdown",
   "id": "f5e32324-61fe-4dc1-9ea8-3e1919a8a1b6",
   "metadata": {},
   "source": [
    "## Деление выборки"
   ]
  },
  {
   "cell_type": "code",
   "execution_count": 113,
   "id": "09212beb-0227-41f2-8457-ceac574ccc6c",
   "metadata": {},
   "outputs": [],
   "source": [
    "x = original_data.drop(['inbnd_duration_min_piece','warehouse_name'], axis=1)\n",
    "y = original_data['inbnd_duration_min_piece']"
   ]
  },
  {
   "cell_type": "code",
   "execution_count": 114,
   "id": "5a8d4113-6dc9-4f15-8657-1644ee47d1b2",
   "metadata": {},
   "outputs": [],
   "source": [
    "x_train, x_test, y_train, y_test = train_test_split(\n",
    "    x , y, test_size=0.2, random_state=42, stratify=None\n",
    ")"
   ]
  },
  {
   "cell_type": "code",
   "execution_count": 115,
   "id": "efae4c3f-5df4-4561-b818-ee21bddf6958",
   "metadata": {},
   "outputs": [],
   "source": [
    "test_indices = x_test.index"
   ]
  },
  {
   "cell_type": "markdown",
   "id": "c66da934-c7e7-4cac-a0bf-aa9add44682f",
   "metadata": {},
   "source": [
    "### Преобразование данных"
   ]
  },
  {
   "cell_type": "code",
   "execution_count": 116,
   "id": "e1c193db-d8cc-4f4c-8f26-ae37689e9f45",
   "metadata": {},
   "outputs": [
    {
     "data": {
      "text/plain": [
       "30884"
      ]
     },
     "execution_count": 116,
     "metadata": {},
     "output_type": "execute_result"
    }
   ],
   "source": [
    "len(x_train)"
   ]
  },
  {
   "cell_type": "code",
   "execution_count": 117,
   "id": "c4e9a74d-c3f1-4c10-9916-2c88d3860fde",
   "metadata": {},
   "outputs": [
    {
     "data": {
      "text/plain": [
       "7722"
      ]
     },
     "execution_count": 117,
     "metadata": {},
     "output_type": "execute_result"
    }
   ],
   "source": [
    "len(x_test)"
   ]
  },
  {
   "cell_type": "code",
   "execution_count": 118,
   "id": "96c95eab-1474-466d-9c76-bca8c97512d9",
   "metadata": {},
   "outputs": [],
   "source": [
    "x_train['started_at'] = pd.to_datetime(x_train['started_at'])\n",
    "x_train['start_hour'] = x_train['start_hour'].astype(str)\n",
    "x_train['start_day'] = x_train['start_day'].astype(str)\n",
    "x_train['start_week'] = x_train['start_week'].astype(str)\n",
    "x_train['start_weekday'] = x_train['start_weekday'].astype(str)\n",
    "x_train['fragile_flg'] = x_train['fragile_flg'].astype(str)\n",
    "\n",
    "x_test['started_at'] = pd.to_datetime(x_test['started_at'])\n",
    "x_test['start_hour'] = x_test['start_hour'].astype(str)\n",
    "x_test['start_day'] = x_test['start_day'].astype(str)\n",
    "x_test['start_week'] = x_test['start_week'].astype(str)\n",
    "x_test['start_weekday'] = x_test['start_weekday'].astype(str)\n",
    "x_test['fragile_flg'] = x_test['fragile_flg'].astype(str)"
   ]
  },
  {
   "cell_type": "code",
   "execution_count": 119,
   "id": "0662f6bf-a57a-43e3-9f29-f06282ac128f",
   "metadata": {},
   "outputs": [],
   "source": [
    "def handle_missing_data(df):\n",
    "    numeric_cols = df.select_dtypes(include=[np.number]).columns\n",
    "    for col in numeric_cols:\n",
    "        df[col].fillna(df[col].median(), inplace=True)\n",
    "    \n",
    "    categorical_cols = df.select_dtypes(include=['object']).columns\n",
    "    for col in categorical_cols:\n",
    "        df[col].fillna('Unknown', inplace=True)\n",
    "    \n",
    "    return df"
   ]
  },
  {
   "cell_type": "code",
   "execution_count": 120,
   "id": "2592f067-7c7a-4ec8-9bbc-b57c7da19ba4",
   "metadata": {},
   "outputs": [],
   "source": [
    "def encode_categorical_features(df):\n",
    "    le = LabelEncoder()\n",
    "    categorical_cols = df.select_dtypes(include=['object']).columns\n",
    "    \n",
    "    for col in categorical_cols:\n",
    "        df[col] = le.fit_transform(df[col].astype(str))\n",
    "    \n",
    "    return df"
   ]
  },
  {
   "cell_type": "code",
   "execution_count": 121,
   "id": "0dfe498b-80f8-44af-9226-b05158a08362",
   "metadata": {},
   "outputs": [
    {
     "data": {
      "text/plain": [
       "inbnd_type                         object\n",
       "supplier_id                        object\n",
       "product_id                         object\n",
       "sku_name                           object\n",
       "sku_weight_kg                     float64\n",
       "sku_volume_litr                   float64\n",
       "sku_type                           object\n",
       "accepted_quantity                 float64\n",
       "accepted_volume_litr              float64\n",
       "started_at                 datetime64[ns]\n",
       "start_hour                         object\n",
       "start_day                          object\n",
       "start_week                         object\n",
       "start_weekday                      object\n",
       "storage_condition_code             object\n",
       "fragile_flg                        object\n",
       "sku_category_level_1_nm            object\n",
       "sku_category_level_2_nm            object\n",
       "sku_category_level_3_nm            object\n",
       "sku_category_level_4_nm            object\n",
       "dtype: object"
      ]
     },
     "execution_count": 121,
     "metadata": {},
     "output_type": "execute_result"
    }
   ],
   "source": [
    "x_test.dtypes"
   ]
  },
  {
   "cell_type": "code",
   "execution_count": 122,
   "id": "f281b2de-bf38-43ed-9311-0bcea7952390",
   "metadata": {},
   "outputs": [],
   "source": [
    "x_test = handle_missing_data(x_test)\n",
    "x_test = encode_categorical_features(x_test)\n",
    "\n",
    "x_train = handle_missing_data(x_train)\n",
    "x_train = encode_categorical_features(x_train)"
   ]
  },
  {
   "cell_type": "code",
   "execution_count": 124,
   "id": "0d233081-1787-48ec-8292-f87a97b4fbc2",
   "metadata": {},
   "outputs": [],
   "source": [
    "def drop_colums(df):\n",
    "    df = df.drop(['started_at','accepted_quantity','accepted_volume_litr'], axis=1)\n",
    "    return df"
   ]
  },
  {
   "cell_type": "code",
   "execution_count": 125,
   "id": "2579889b-3a95-4147-9072-ce8d0112bd3a",
   "metadata": {},
   "outputs": [],
   "source": [
    "x_test = drop_colums(x_test)\n",
    "x_train = drop_colums(x_train)"
   ]
  },
  {
   "cell_type": "code",
   "execution_count": 126,
   "id": "e32e7547-f495-44c5-a58c-bc25377fd30a",
   "metadata": {},
   "outputs": [
    {
     "data": {
      "text/html": [
       "<div>\n",
       "<style scoped>\n",
       "    .dataframe tbody tr th:only-of-type {\n",
       "        vertical-align: middle;\n",
       "    }\n",
       "\n",
       "    .dataframe tbody tr th {\n",
       "        vertical-align: top;\n",
       "    }\n",
       "\n",
       "    .dataframe thead th {\n",
       "        text-align: right;\n",
       "    }\n",
       "</style>\n",
       "<table border=\"1\" class=\"dataframe\">\n",
       "  <thead>\n",
       "    <tr style=\"text-align: right;\">\n",
       "      <th></th>\n",
       "      <th>inbnd_type</th>\n",
       "      <th>supplier_id</th>\n",
       "      <th>product_id</th>\n",
       "      <th>sku_name</th>\n",
       "      <th>sku_weight_kg</th>\n",
       "      <th>sku_volume_litr</th>\n",
       "      <th>sku_type</th>\n",
       "      <th>start_hour</th>\n",
       "      <th>start_day</th>\n",
       "      <th>start_week</th>\n",
       "      <th>start_weekday</th>\n",
       "      <th>storage_condition_code</th>\n",
       "      <th>fragile_flg</th>\n",
       "      <th>sku_category_level_1_nm</th>\n",
       "      <th>sku_category_level_2_nm</th>\n",
       "      <th>sku_category_level_3_nm</th>\n",
       "      <th>sku_category_level_4_nm</th>\n",
       "    </tr>\n",
       "  </thead>\n",
       "  <tbody>\n",
       "    <tr>\n",
       "      <th>35143</th>\n",
       "      <td>0</td>\n",
       "      <td>15</td>\n",
       "      <td>38</td>\n",
       "      <td>237</td>\n",
       "      <td>0.550</td>\n",
       "      <td>1.641600</td>\n",
       "      <td>0</td>\n",
       "      <td>0</td>\n",
       "      <td>11</td>\n",
       "      <td>29</td>\n",
       "      <td>2</td>\n",
       "      <td>2</td>\n",
       "      <td>1</td>\n",
       "      <td>8</td>\n",
       "      <td>16</td>\n",
       "      <td>41</td>\n",
       "      <td>69</td>\n",
       "    </tr>\n",
       "    <tr>\n",
       "      <th>57753</th>\n",
       "      <td>0</td>\n",
       "      <td>13</td>\n",
       "      <td>209</td>\n",
       "      <td>470</td>\n",
       "      <td>0.168</td>\n",
       "      <td>1.393920</td>\n",
       "      <td>0</td>\n",
       "      <td>10</td>\n",
       "      <td>17</td>\n",
       "      <td>13</td>\n",
       "      <td>0</td>\n",
       "      <td>2</td>\n",
       "      <td>0</td>\n",
       "      <td>3</td>\n",
       "      <td>1</td>\n",
       "      <td>46</td>\n",
       "      <td>126</td>\n",
       "    </tr>\n",
       "    <tr>\n",
       "      <th>24925</th>\n",
       "      <td>2</td>\n",
       "      <td>24</td>\n",
       "      <td>438</td>\n",
       "      <td>240</td>\n",
       "      <td>0.985</td>\n",
       "      <td>1.819840</td>\n",
       "      <td>0</td>\n",
       "      <td>11</td>\n",
       "      <td>24</td>\n",
       "      <td>14</td>\n",
       "      <td>6</td>\n",
       "      <td>2</td>\n",
       "      <td>0</td>\n",
       "      <td>4</td>\n",
       "      <td>11</td>\n",
       "      <td>34</td>\n",
       "      <td>61</td>\n",
       "    </tr>\n",
       "    <tr>\n",
       "      <th>91268</th>\n",
       "      <td>0</td>\n",
       "      <td>3</td>\n",
       "      <td>567</td>\n",
       "      <td>219</td>\n",
       "      <td>0.810</td>\n",
       "      <td>1.596000</td>\n",
       "      <td>0</td>\n",
       "      <td>10</td>\n",
       "      <td>14</td>\n",
       "      <td>17</td>\n",
       "      <td>0</td>\n",
       "      <td>2</td>\n",
       "      <td>0</td>\n",
       "      <td>7</td>\n",
       "      <td>15</td>\n",
       "      <td>59</td>\n",
       "      <td>105</td>\n",
       "    </tr>\n",
       "    <tr>\n",
       "      <th>68087</th>\n",
       "      <td>0</td>\n",
       "      <td>13</td>\n",
       "      <td>251</td>\n",
       "      <td>26</td>\n",
       "      <td>0.262</td>\n",
       "      <td>0.922284</td>\n",
       "      <td>0</td>\n",
       "      <td>1</td>\n",
       "      <td>12</td>\n",
       "      <td>7</td>\n",
       "      <td>0</td>\n",
       "      <td>2</td>\n",
       "      <td>0</td>\n",
       "      <td>3</td>\n",
       "      <td>1</td>\n",
       "      <td>6</td>\n",
       "      <td>11</td>\n",
       "    </tr>\n",
       "    <tr>\n",
       "      <th>...</th>\n",
       "      <td>...</td>\n",
       "      <td>...</td>\n",
       "      <td>...</td>\n",
       "      <td>...</td>\n",
       "      <td>...</td>\n",
       "      <td>...</td>\n",
       "      <td>...</td>\n",
       "      <td>...</td>\n",
       "      <td>...</td>\n",
       "      <td>...</td>\n",
       "      <td>...</td>\n",
       "      <td>...</td>\n",
       "      <td>...</td>\n",
       "      <td>...</td>\n",
       "      <td>...</td>\n",
       "      <td>...</td>\n",
       "      <td>...</td>\n",
       "    </tr>\n",
       "    <tr>\n",
       "      <th>19404</th>\n",
       "      <td>0</td>\n",
       "      <td>5</td>\n",
       "      <td>566</td>\n",
       "      <td>553</td>\n",
       "      <td>0.255</td>\n",
       "      <td>0.472500</td>\n",
       "      <td>0</td>\n",
       "      <td>7</td>\n",
       "      <td>13</td>\n",
       "      <td>27</td>\n",
       "      <td>4</td>\n",
       "      <td>3</td>\n",
       "      <td>0</td>\n",
       "      <td>12</td>\n",
       "      <td>23</td>\n",
       "      <td>79</td>\n",
       "      <td>143</td>\n",
       "    </tr>\n",
       "    <tr>\n",
       "      <th>35655</th>\n",
       "      <td>0</td>\n",
       "      <td>6</td>\n",
       "      <td>64</td>\n",
       "      <td>545</td>\n",
       "      <td>0.258</td>\n",
       "      <td>1.197000</td>\n",
       "      <td>0</td>\n",
       "      <td>10</td>\n",
       "      <td>15</td>\n",
       "      <td>8</td>\n",
       "      <td>3</td>\n",
       "      <td>2</td>\n",
       "      <td>0</td>\n",
       "      <td>7</td>\n",
       "      <td>15</td>\n",
       "      <td>49</td>\n",
       "      <td>88</td>\n",
       "    </tr>\n",
       "    <tr>\n",
       "      <th>115262</th>\n",
       "      <td>0</td>\n",
       "      <td>18</td>\n",
       "      <td>8</td>\n",
       "      <td>588</td>\n",
       "      <td>0.600</td>\n",
       "      <td>1.728000</td>\n",
       "      <td>0</td>\n",
       "      <td>10</td>\n",
       "      <td>6</td>\n",
       "      <td>7</td>\n",
       "      <td>2</td>\n",
       "      <td>0</td>\n",
       "      <td>1</td>\n",
       "      <td>10</td>\n",
       "      <td>24</td>\n",
       "      <td>61</td>\n",
       "      <td>150</td>\n",
       "    </tr>\n",
       "    <tr>\n",
       "      <th>2392</th>\n",
       "      <td>0</td>\n",
       "      <td>2</td>\n",
       "      <td>98</td>\n",
       "      <td>479</td>\n",
       "      <td>0.170</td>\n",
       "      <td>0.924000</td>\n",
       "      <td>0</td>\n",
       "      <td>9</td>\n",
       "      <td>4</td>\n",
       "      <td>30</td>\n",
       "      <td>6</td>\n",
       "      <td>2</td>\n",
       "      <td>1</td>\n",
       "      <td>3</td>\n",
       "      <td>1</td>\n",
       "      <td>46</td>\n",
       "      <td>116</td>\n",
       "    </tr>\n",
       "    <tr>\n",
       "      <th>48773</th>\n",
       "      <td>0</td>\n",
       "      <td>21</td>\n",
       "      <td>369</td>\n",
       "      <td>525</td>\n",
       "      <td>0.450</td>\n",
       "      <td>1.368000</td>\n",
       "      <td>0</td>\n",
       "      <td>7</td>\n",
       "      <td>30</td>\n",
       "      <td>10</td>\n",
       "      <td>5</td>\n",
       "      <td>2</td>\n",
       "      <td>0</td>\n",
       "      <td>8</td>\n",
       "      <td>16</td>\n",
       "      <td>76</td>\n",
       "      <td>137</td>\n",
       "    </tr>\n",
       "  </tbody>\n",
       "</table>\n",
       "<p>30884 rows × 17 columns</p>\n",
       "</div>"
      ],
      "text/plain": [
       "        inbnd_type  supplier_id  product_id  sku_name  sku_weight_kg  \\\n",
       "35143            0           15          38       237          0.550   \n",
       "57753            0           13         209       470          0.168   \n",
       "24925            2           24         438       240          0.985   \n",
       "91268            0            3         567       219          0.810   \n",
       "68087            0           13         251        26          0.262   \n",
       "...            ...          ...         ...       ...            ...   \n",
       "19404            0            5         566       553          0.255   \n",
       "35655            0            6          64       545          0.258   \n",
       "115262           0           18           8       588          0.600   \n",
       "2392             0            2          98       479          0.170   \n",
       "48773            0           21         369       525          0.450   \n",
       "\n",
       "        sku_volume_litr  sku_type  start_hour  start_day  start_week  \\\n",
       "35143          1.641600         0           0         11          29   \n",
       "57753          1.393920         0          10         17          13   \n",
       "24925          1.819840         0          11         24          14   \n",
       "91268          1.596000         0          10         14          17   \n",
       "68087          0.922284         0           1         12           7   \n",
       "...                 ...       ...         ...        ...         ...   \n",
       "19404          0.472500         0           7         13          27   \n",
       "35655          1.197000         0          10         15           8   \n",
       "115262         1.728000         0          10          6           7   \n",
       "2392           0.924000         0           9          4          30   \n",
       "48773          1.368000         0           7         30          10   \n",
       "\n",
       "        start_weekday  storage_condition_code  fragile_flg  \\\n",
       "35143               2                       2            1   \n",
       "57753               0                       2            0   \n",
       "24925               6                       2            0   \n",
       "91268               0                       2            0   \n",
       "68087               0                       2            0   \n",
       "...               ...                     ...          ...   \n",
       "19404               4                       3            0   \n",
       "35655               3                       2            0   \n",
       "115262              2                       0            1   \n",
       "2392                6                       2            1   \n",
       "48773               5                       2            0   \n",
       "\n",
       "        sku_category_level_1_nm  sku_category_level_2_nm  \\\n",
       "35143                         8                       16   \n",
       "57753                         3                        1   \n",
       "24925                         4                       11   \n",
       "91268                         7                       15   \n",
       "68087                         3                        1   \n",
       "...                         ...                      ...   \n",
       "19404                        12                       23   \n",
       "35655                         7                       15   \n",
       "115262                       10                       24   \n",
       "2392                          3                        1   \n",
       "48773                         8                       16   \n",
       "\n",
       "        sku_category_level_3_nm  sku_category_level_4_nm  \n",
       "35143                        41                       69  \n",
       "57753                        46                      126  \n",
       "24925                        34                       61  \n",
       "91268                        59                      105  \n",
       "68087                         6                       11  \n",
       "...                         ...                      ...  \n",
       "19404                        79                      143  \n",
       "35655                        49                       88  \n",
       "115262                       61                      150  \n",
       "2392                         46                      116  \n",
       "48773                        76                      137  \n",
       "\n",
       "[30884 rows x 17 columns]"
      ]
     },
     "execution_count": 126,
     "metadata": {},
     "output_type": "execute_result"
    }
   ],
   "source": [
    "x_train"
   ]
  },
  {
   "cell_type": "markdown",
   "id": "7b3bd586-bac3-475d-bb91-244604be3b2d",
   "metadata": {},
   "source": [
    "## Обучение модели"
   ]
  },
  {
   "cell_type": "code",
   "execution_count": 127,
   "id": "413f3b9c-cfc7-4cfb-bb6a-3208a1ef7787",
   "metadata": {},
   "outputs": [],
   "source": [
    "# 5. МАСШТАБИРОВАНИЕ ЧИСЛОВЫХ ПРИЗНАКОВ (опционально для LightGBM, но может помочь)\n",
    "#scaler = StandardScaler()\n",
    "#X_train_scaled = scaler.fit_transform(x_train)\n",
    "#X_test_scaled = scaler.transform(x_test)"
   ]
  },
  {
   "cell_type": "code",
   "execution_count": 128,
   "id": "9d06f63b-16d1-4e0e-9cf3-5d66bd8a63c4",
   "metadata": {},
   "outputs": [],
   "source": [
    "params = {\n",
    "    'boosting_type': 'gbdt',          # тип бустинга\n",
    "    'objective': 'regression',        # задача регрессии\n",
    "    'metric': 'mae',                  # метрика - средняя абсолютная ошибка\n",
    "    'num_leaves': 31,                 # максимальное количество листьев в дереве\n",
    "    'learning_rate': 0.05,            # скорость обучения\n",
    "    'feature_fraction': 0.9,          # доля признаков для использования на каждой итерации\n",
    "    'bagging_fraction': 0.8,          # доля данных для использования на каждой итерации\n",
    "    'bagging_freq': 5,                # частота bagging\n",
    "    'verbose': 0,                     # уровень детализации вывода\n",
    "    'random_state': 42,               # для воспроизводимости\n",
    "    'n_estimators': 1000,             # количество деревьев\n",
    "    'max_depth': -1,                  # глубина деревьев (-1 = без ограничений)\n",
    "    'min_data_in_leaf': 20,           # минимальное количество данных в листе\n",
    "}"
   ]
  },
  {
   "cell_type": "code",
   "execution_count": 129,
   "id": "5840e3e1-b558-4ef8-9a36-6c96bd98b3b5",
   "metadata": {},
   "outputs": [],
   "source": [
    "train_data = lgb.Dataset(x_train, label=y_train)\n",
    "test_data = lgb.Dataset(x_test, label=y_test, reference=train_data)"
   ]
  },
  {
   "cell_type": "code",
   "execution_count": 130,
   "id": "bf42646d-099b-41a1-9890-43477e2dbb26",
   "metadata": {},
   "outputs": [
    {
     "name": "stdout",
     "output_type": "stream",
     "text": [
      "Training until validation scores don't improve for 50 rounds\n",
      "[100]\tvalid_0's l1: 1.03546\n",
      "[200]\tvalid_0's l1: 0.976587\n",
      "[300]\tvalid_0's l1: 0.95364\n",
      "[400]\tvalid_0's l1: 0.943503\n",
      "[500]\tvalid_0's l1: 0.936706\n",
      "[600]\tvalid_0's l1: 0.935264\n",
      "Early stopping, best iteration is:\n",
      "[559]\tvalid_0's l1: 0.93467\n"
     ]
    }
   ],
   "source": [
    "# Обучение модели с ранней остановкой\n",
    "model = lgb.train(\n",
    "    params,\n",
    "    train_data,\n",
    "    num_boost_round=1000,\n",
    "    valid_sets=[test_data],\n",
    "    callbacks=[\n",
    "        lgb.early_stopping(stopping_rounds=50, verbose=True),\n",
    "        lgb.log_evaluation(100)\n",
    "    ]\n",
    ")"
   ]
  },
  {
   "cell_type": "code",
   "execution_count": 138,
   "id": "1c788011-8291-4406-a707-df496961aa07",
   "metadata": {},
   "outputs": [],
   "source": [
    "y_pred = model.predict(x_test)"
   ]
  },
  {
   "cell_type": "code",
   "execution_count": 140,
   "id": "aec3e264-f5ac-4e00-af85-41f15c3eaae1",
   "metadata": {},
   "outputs": [
    {
     "name": "stdout",
     "output_type": "stream",
     "text": [
      "MAE (Средняя абсолютная ошибка): 0.93 минут\n",
      "MSE (Средняя квадратичная ошибка): 4.51\n",
      "RMSE (Корень из MSE): 2.12 минут\n",
      "R² (Коэффициент детерминации): 0.5103\n"
     ]
    }
   ],
   "source": [
    "# Метрики качества\n",
    "print(f\"MAE (Средняя абсолютная ошибка): {mean_absolute_error(y_test, y_pred):.2f} минут\")\n",
    "print(f\"MSE (Средняя квадратичная ошибка): {mean_squared_error(y_test, y_pred):.2f}\")\n",
    "print(f\"RMSE (Корень из MSE): {np.sqrt(mean_squared_error(y_test, y_pred)):.2f} минут\")\n",
    "print(f\"R² (Коэффициент детерминации): {r2_score(y_test, y_pred):.4f}\")"
   ]
  },
  {
   "cell_type": "markdown",
   "id": "0fe3ac5b-4bb1-4922-9361-2e4d4bc5f153",
   "metadata": {},
   "source": [
    "## Важность признаков"
   ]
  },
  {
   "cell_type": "code",
   "execution_count": 141,
   "id": "e1795aa1-3aeb-42c5-b95a-5934674731a5",
   "metadata": {},
   "outputs": [
    {
     "name": "stdout",
     "output_type": "stream",
     "text": [
      "\n",
      "ТОП-15 ВАЖНЕЙШИХ ПРИЗНАКОВ:\n",
      "                    feature  importance\n",
      "2                product_id        2401\n",
      "9                start_week        2233\n",
      "3                  sku_name        1855\n",
      "8                 start_day        1755\n",
      "4             sku_weight_kg        1576\n",
      "7                start_hour        1201\n",
      "5           sku_volume_litr        1165\n",
      "1               supplier_id        1069\n",
      "16  sku_category_level_4_nm        1015\n",
      "10            start_weekday         976\n",
      "15  sku_category_level_3_nm         677\n",
      "14  sku_category_level_2_nm         334\n",
      "13  sku_category_level_1_nm         223\n",
      "12              fragile_flg         150\n",
      "11   storage_condition_code          87\n"
     ]
    }
   ],
   "source": [
    "# 8. ВАЖНОСТЬ ПРИЗНАКОВ\n",
    "feature_importance = pd.DataFrame({\n",
    "    'feature': x_train.columns,\n",
    "    'importance': model.feature_importance()\n",
    "}).sort_values('importance', ascending=False)\n",
    "\n",
    "print(\"\\nТОП-15 ВАЖНЕЙШИХ ПРИЗНАКОВ:\")\n",
    "print(feature_importance.head(15))"
   ]
  },
  {
   "cell_type": "code",
   "execution_count": 142,
   "id": "4bc9f4dc-efec-4e18-927c-231e30080ece",
   "metadata": {},
   "outputs": [
    {
     "data": {
      "image/png": "[encoded data removed]",
      "text/plain": [
       "<Figure size 800x400 with 1 Axes>"
      ]
     },
     "metadata": {},
     "output_type": "display_data"
    }
   ],
   "source": [
    "# 9. ВИЗУАЛИЗАЦИЯ ПРЕДСКАЗАНИЙ vs РЕАЛЬНЫЕ ЗНАЧЕНИЯ\n",
    "plt.figure(figsize=(8, 4))\n",
    "plt.scatter(y_test, y_pred, alpha=0.5)\n",
    "plt.plot([y_test.min(), y_test.max()], [y_test.min(), y_test.max()], 'r--', lw=2)\n",
    "plt.xlabel('Реальные значения времени (минуты)')\n",
    "plt.ylabel('Предсказанные значения времени (минуты)')\n",
    "plt.title('Предсказания vs Реальные значения')\n",
    "plt.show()"
   ]
  },
  {
   "cell_type": "code",
   "execution_count": 143,
   "id": "35097352-2f08-4b6f-8ed0-7edc2612dccc",
   "metadata": {},
   "outputs": [
    {
     "data": {
      "image/png": "[encoded data removed]",
      "text/plain": [
       "<Figure size 800x400 with 1 Axes>"
      ]
     },
     "metadata": {},
     "output_type": "display_data"
    }
   ],
   "source": [
    "# 10. АНАЛИЗ ОШИБОК\n",
    "errors = y_test - y_pred\n",
    "plt.figure(figsize=(8, 4))\n",
    "sns.histplot(errors, kde=True)\n",
    "plt.title('Распределение ошибок предсказания')\n",
    "plt.xlabel('Ошибка (минуты)')\n",
    "plt.show()"
   ]
  },
  {
   "cell_type": "code",
   "execution_count": 144,
   "id": "0e5c9889-82fe-429d-8863-7d92a75281ab",
   "metadata": {},
   "outputs": [
    {
     "name": "stdout",
     "output_type": "stream",
     "text": [
      "Файл сохранен: predictions_results_whs.csv\n",
      "Количество строк: 7722\n",
      "Средняя ошибка: 0.93 минут\n"
     ]
    }
   ],
   "source": [
    "# Создаем DataFrame с результатами\n",
    "#results_df = x_test.copy()\n",
    "results_df = original_data.loc[test_indices].copy()\n",
    "\n",
    "# Добавляем предсказания и фактические значения\n",
    "results_df['predicted_time'] = y_pred\n",
    "results_df['actual_time'] = y_test\n",
    "\n",
    "# Вычисляем ошибку\n",
    "results_df['error'] = results_df['actual_time'] - results_df['predicted_time']\n",
    "results_df['absolute_error'] = abs(results_df['error'])\n",
    "\n",
    "# Сохраняем в CSV\n",
    "results_df.to_csv('predictions_results_whs.csv', index=False, encoding='utf-8-sig', sep='|')\n",
    "\n",
    "print(\"Файл сохранен: predictions_results_whs.csv\")\n",
    "print(f\"Количество строк: {len(results_df)}\")\n",
    "print(f\"Средняя ошибка: {results_df['absolute_error'].mean():.2f} минут\")"
   ]
  },
  {
   "cell_type": "code",
   "execution_count": null,
   "id": "ab8cd178-c2f2-4406-8017-8a6945996b8e",
   "metadata": {},
   "outputs": [],
   "source": []
  }
 ],
 "metadata": {
  "kernelspec": {
   "display_name": "Python 3 (ipykernel)",
   "language": "python",
   "name": "python3"
  },
  "language_info": {
   "codemirror_mode": {
    "name": "ipython",
    "version": 3
   },
   "file_extension": ".py",
   "mimetype": "text/x-python",
   "name": "python",
   "nbconvert_exporter": "python",
   "pygments_lexer": "ipython3",
   "version": "3.13.5"
  }
 },
 "nbformat": 4,
 "nbformat_minor": 5
}
