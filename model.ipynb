{
 "cells": [
  {
   "cell_type": "code",
   "execution_count": 154,
   "id": "82ca3487-a76b-494b-ae95-06fa34f2e271",
   "metadata": {},
   "outputs": [],
   "source": [
    "import pandas as pd\n",
    "import numpy as np\n",
    "import matplotlib.pyplot as plt\n",
    "import seaborn as sns\n",
    "from sklearn.model_selection import train_test_split, cross_val_score, GridSearchCV\n",
    "from sklearn.preprocessing import LabelEncoder, StandardScaler\n",
    "from sklearn.metrics import mean_absolute_error, mean_squared_error, r2_score\n",
    "from sklearn.metrics import mean_absolute_error, mean_squared_error, r2_score\n",
    "import lightgbm as lgb\n",
    "import warnings\n",
    "warnings.filterwarnings('ignore')"
   ]
  },
  {
   "cell_type": "code",
   "execution_count": 155,
   "id": "5a81ad89-baf6-4fbd-a930-ba3cc90a9c6b",
   "metadata": {},
   "outputs": [],
   "source": [
    "data = pd.read_csv(\"input_data.csv\")"
   ]
  },
  {
   "cell_type": "code",
   "execution_count": 156,
   "id": "7c0a9082-7723-43e9-971b-62bb6401bef8",
   "metadata": {},
   "outputs": [],
   "source": [
    "original_data = data.copy()\n",
    "original_data = original_data.dropna()"
   ]
  },
  {
   "cell_type": "code",
   "execution_count": 157,
   "id": "f382479e-43b8-428d-9253-15a3d1fda2a4",
   "metadata": {},
   "outputs": [
    {
     "data": {
      "text/html": [
       "<div>\n",
       "<style scoped>\n",
       "    .dataframe tbody tr th:only-of-type {\n",
       "        vertical-align: middle;\n",
       "    }\n",
       "\n",
       "    .dataframe tbody tr th {\n",
       "        vertical-align: top;\n",
       "    }\n",
       "\n",
       "    .dataframe thead th {\n",
       "        text-align: right;\n",
       "    }\n",
       "</style>\n",
       "<table border=\"1\" class=\"dataframe\">\n",
       "  <thead>\n",
       "    <tr style=\"text-align: right;\">\n",
       "      <th></th>\n",
       "      <th>inbnd_type</th>\n",
       "      <th>warehouse_name</th>\n",
       "      <th>supplier_id</th>\n",
       "      <th>product_id</th>\n",
       "      <th>sku_name</th>\n",
       "      <th>sku_weight_kg</th>\n",
       "      <th>sku_volume_litr</th>\n",
       "      <th>sku_type</th>\n",
       "      <th>accepted_weight_kg</th>\n",
       "      <th>accepted_volume_litr</th>\n",
       "      <th>...</th>\n",
       "      <th>start_day</th>\n",
       "      <th>start_week</th>\n",
       "      <th>start_weekday</th>\n",
       "      <th>inbnd_duration_min_kg</th>\n",
       "      <th>storage_condition_code</th>\n",
       "      <th>fragile_flg</th>\n",
       "      <th>sku_category_level_1_nm</th>\n",
       "      <th>sku_category_level_2_nm</th>\n",
       "      <th>sku_category_level_3_nm</th>\n",
       "      <th>sku_category_level_4_nm</th>\n",
       "    </tr>\n",
       "  </thead>\n",
       "  <tbody>\n",
       "    <tr>\n",
       "      <th>0</th>\n",
       "      <td>Кросс-док</td>\n",
       "      <td>РЦ СБЛ ВЛГ-2 WMS</td>\n",
       "      <td>c7a48c69-0381-11e9-80c5-0cc47a817925</td>\n",
       "      <td>82cccfb1-7f28-11eb-85a3-1c34dae33151</td>\n",
       "      <td>Сырок творожный Простоквашино глазированный, в...</td>\n",
       "      <td>0.041</td>\n",
       "      <td>0.143</td>\n",
       "      <td>piece</td>\n",
       "      <td>1.476</td>\n",
       "      <td>5.148</td>\n",
       "      <td>...</td>\n",
       "      <td>26</td>\n",
       "      <td>22</td>\n",
       "      <td>1</td>\n",
       "      <td>35.620724</td>\n",
       "      <td>MEDIUM_COLD</td>\n",
       "      <td>0</td>\n",
       "      <td>Молочная продукция</td>\n",
       "      <td>Молочно-десертные продукты</td>\n",
       "      <td>Сырки глазированные</td>\n",
       "      <td>Сырки глазированные классические</td>\n",
       "    </tr>\n",
       "  </tbody>\n",
       "</table>\n",
       "<p>1 rows × 22 columns</p>\n",
       "</div>"
      ],
      "text/plain": [
       "  inbnd_type    warehouse_name                           supplier_id  \\\n",
       "0  Кросс-док  РЦ СБЛ ВЛГ-2 WMS  c7a48c69-0381-11e9-80c5-0cc47a817925   \n",
       "\n",
       "                             product_id  \\\n",
       "0  82cccfb1-7f28-11eb-85a3-1c34dae33151   \n",
       "\n",
       "                                            sku_name  sku_weight_kg  \\\n",
       "0  Сырок творожный Простоквашино глазированный, в...          0.041   \n",
       "\n",
       "   sku_volume_litr sku_type  accepted_weight_kg  accepted_volume_litr  ...  \\\n",
       "0            0.143    piece               1.476                 5.148  ...   \n",
       "\n",
       "  start_day  start_week  start_weekday  inbnd_duration_min_kg  \\\n",
       "0        26          22              1              35.620724   \n",
       "\n",
       "   storage_condition_code  fragile_flg sku_category_level_1_nm  \\\n",
       "0             MEDIUM_COLD            0      Молочная продукция   \n",
       "\n",
       "      sku_category_level_2_nm sku_category_level_3_nm  \\\n",
       "0  Молочно-десертные продукты     Сырки глазированные   \n",
       "\n",
       "            sku_category_level_4_nm  \n",
       "0  Сырки глазированные классические  \n",
       "\n",
       "[1 rows x 22 columns]"
      ]
     },
     "execution_count": 157,
     "metadata": {},
     "output_type": "execute_result"
    }
   ],
   "source": [
    "original_data.head(1)"
   ]
  },
  {
   "cell_type": "markdown",
   "id": "f5e32324-61fe-4dc1-9ea8-3e1919a8a1b6",
   "metadata": {},
   "source": [
    "## Деление выборки"
   ]
  },
  {
   "cell_type": "code",
   "execution_count": 158,
   "id": "09212beb-0227-41f2-8457-ceac574ccc6c",
   "metadata": {},
   "outputs": [],
   "source": [
    "x = data.drop('inbnd_duration_min_kg', axis=1)\n",
    "y = data['inbnd_duration_min_kg']"
   ]
  },
  {
   "cell_type": "code",
   "execution_count": 159,
   "id": "5a8d4113-6dc9-4f15-8657-1644ee47d1b2",
   "metadata": {},
   "outputs": [],
   "source": [
    "x_train, x_test, y_train, y_test = train_test_split(\n",
    "    x , y, test_size=0.2, random_state=42, stratify=None\n",
    ")"
   ]
  },
  {
   "cell_type": "code",
   "execution_count": 160,
   "id": "efae4c3f-5df4-4561-b818-ee21bddf6958",
   "metadata": {},
   "outputs": [],
   "source": [
    "test_indices = x_test.index"
   ]
  },
  {
   "cell_type": "markdown",
   "id": "c66da934-c7e7-4cac-a0bf-aa9add44682f",
   "metadata": {},
   "source": [
    "### Преобразование данных"
   ]
  },
  {
   "cell_type": "code",
   "execution_count": 161,
   "id": "e1c193db-d8cc-4f4c-8f26-ae37689e9f45",
   "metadata": {},
   "outputs": [
    {
     "data": {
      "text/plain": [
       "93279"
      ]
     },
     "execution_count": 161,
     "metadata": {},
     "output_type": "execute_result"
    }
   ],
   "source": [
    "len(x_train)"
   ]
  },
  {
   "cell_type": "code",
   "execution_count": 162,
   "id": "c4e9a74d-c3f1-4c10-9916-2c88d3860fde",
   "metadata": {},
   "outputs": [
    {
     "data": {
      "text/plain": [
       "23320"
      ]
     },
     "execution_count": 162,
     "metadata": {},
     "output_type": "execute_result"
    }
   ],
   "source": [
    "len(x_test)"
   ]
  },
  {
   "cell_type": "code",
   "execution_count": 163,
   "id": "96c95eab-1474-466d-9c76-bca8c97512d9",
   "metadata": {},
   "outputs": [],
   "source": [
    "x_train['started_at'] = pd.to_datetime(x_train['started_at'])\n",
    "x_train['start_hour'] = x_train['start_hour'].astype(str)\n",
    "x_train['start_day'] = x_train['start_day'].astype(str)\n",
    "x_train['start_week'] = x_train['start_week'].astype(str)\n",
    "x_train['start_weekday'] = x_train['start_weekday'].astype(str)\n",
    "x_train['fragile_flg'] = x_train['fragile_flg'].astype(str)\n",
    "\n",
    "x_test['started_at'] = pd.to_datetime(x_test['started_at'])\n",
    "x_test['start_hour'] = x_test['start_hour'].astype(str)\n",
    "x_test['start_day'] = x_test['start_day'].astype(str)\n",
    "x_test['start_week'] = x_test['start_week'].astype(str)\n",
    "x_test['start_weekday'] = x_test['start_weekday'].astype(str)\n",
    "x_test['fragile_flg'] = x_test['fragile_flg'].astype(str)"
   ]
  },
  {
   "cell_type": "code",
   "execution_count": 164,
   "id": "0662f6bf-a57a-43e3-9f29-f06282ac128f",
   "metadata": {},
   "outputs": [],
   "source": [
    "def handle_missing_data(df):\n",
    "    numeric_cols = df.select_dtypes(include=[np.number]).columns\n",
    "    for col in numeric_cols:\n",
    "        df[col].fillna(df[col].median(), inplace=True)\n",
    "    \n",
    "    categorical_cols = df.select_dtypes(include=['object']).columns\n",
    "    for col in categorical_cols:\n",
    "        df[col].fillna('Unknown', inplace=True)\n",
    "    \n",
    "    return df"
   ]
  },
  {
   "cell_type": "code",
   "execution_count": 165,
   "id": "2592f067-7c7a-4ec8-9bbc-b57c7da19ba4",
   "metadata": {},
   "outputs": [],
   "source": [
    "def encode_categorical_features(df):\n",
    "    le = LabelEncoder()\n",
    "    categorical_cols = df.select_dtypes(include=['object']).columns\n",
    "    \n",
    "    for col in categorical_cols:\n",
    "        df[col] = le.fit_transform(df[col].astype(str))\n",
    "    \n",
    "    return df"
   ]
  },
  {
   "cell_type": "code",
   "execution_count": 166,
   "id": "0dfe498b-80f8-44af-9226-b05158a08362",
   "metadata": {},
   "outputs": [
    {
     "data": {
      "text/plain": [
       "inbnd_type                         object\n",
       "warehouse_name                     object\n",
       "supplier_id                        object\n",
       "product_id                         object\n",
       "sku_name                           object\n",
       "sku_weight_kg                     float64\n",
       "sku_volume_litr                   float64\n",
       "sku_type                           object\n",
       "accepted_weight_kg                float64\n",
       "accepted_volume_litr              float64\n",
       "started_at                 datetime64[ns]\n",
       "start_hour                         object\n",
       "start_day                          object\n",
       "start_week                         object\n",
       "start_weekday                      object\n",
       "storage_condition_code             object\n",
       "fragile_flg                        object\n",
       "sku_category_level_1_nm            object\n",
       "sku_category_level_2_nm            object\n",
       "sku_category_level_3_nm            object\n",
       "sku_category_level_4_nm            object\n",
       "dtype: object"
      ]
     },
     "execution_count": 166,
     "metadata": {},
     "output_type": "execute_result"
    }
   ],
   "source": [
    "x_test.dtypes"
   ]
  },
  {
   "cell_type": "code",
   "execution_count": 167,
   "id": "f281b2de-bf38-43ed-9311-0bcea7952390",
   "metadata": {},
   "outputs": [],
   "source": [
    "x_test = handle_missing_data(x_test)\n",
    "x_test = encode_categorical_features(x_test)\n",
    "\n",
    "x_train = handle_missing_data(x_train)\n",
    "x_train = encode_categorical_features(x_train)"
   ]
  },
  {
   "cell_type": "code",
   "execution_count": 168,
   "id": "0d233081-1787-48ec-8292-f87a97b4fbc2",
   "metadata": {},
   "outputs": [],
   "source": [
    "def drop_colums(df):\n",
    "    df = df.drop(['started_at','accepted_weight_kg','accepted_volume_litr'], axis=1)\n",
    "    return df"
   ]
  },
  {
   "cell_type": "code",
   "execution_count": 169,
   "id": "2579889b-3a95-4147-9072-ce8d0112bd3a",
   "metadata": {},
   "outputs": [],
   "source": [
    "x_test = drop_colums(x_test)\n",
    "x_train = drop_colums(x_train)"
   ]
  },
  {
   "cell_type": "code",
   "execution_count": 170,
   "id": "e32e7547-f495-44c5-a58c-bc25377fd30a",
   "metadata": {},
   "outputs": [
    {
     "data": {
      "text/html": [
       "<div>\n",
       "<style scoped>\n",
       "    .dataframe tbody tr th:only-of-type {\n",
       "        vertical-align: middle;\n",
       "    }\n",
       "\n",
       "    .dataframe tbody tr th {\n",
       "        vertical-align: top;\n",
       "    }\n",
       "\n",
       "    .dataframe thead th {\n",
       "        text-align: right;\n",
       "    }\n",
       "</style>\n",
       "<table border=\"1\" class=\"dataframe\">\n",
       "  <thead>\n",
       "    <tr style=\"text-align: right;\">\n",
       "      <th></th>\n",
       "      <th>inbnd_type</th>\n",
       "      <th>warehouse_name</th>\n",
       "      <th>supplier_id</th>\n",
       "      <th>product_id</th>\n",
       "      <th>sku_name</th>\n",
       "      <th>sku_weight_kg</th>\n",
       "      <th>sku_volume_litr</th>\n",
       "      <th>sku_type</th>\n",
       "      <th>start_hour</th>\n",
       "      <th>start_day</th>\n",
       "      <th>start_week</th>\n",
       "      <th>start_weekday</th>\n",
       "      <th>storage_condition_code</th>\n",
       "      <th>fragile_flg</th>\n",
       "      <th>sku_category_level_1_nm</th>\n",
       "      <th>sku_category_level_2_nm</th>\n",
       "      <th>sku_category_level_3_nm</th>\n",
       "      <th>sku_category_level_4_nm</th>\n",
       "    </tr>\n",
       "  </thead>\n",
       "  <tbody>\n",
       "    <tr>\n",
       "      <th>113833</th>\n",
       "      <td>0</td>\n",
       "      <td>8</td>\n",
       "      <td>75</td>\n",
       "      <td>365</td>\n",
       "      <td>491</td>\n",
       "      <td>0.035</td>\n",
       "      <td>0.132000</td>\n",
       "      <td>0</td>\n",
       "      <td>11</td>\n",
       "      <td>4</td>\n",
       "      <td>12</td>\n",
       "      <td>2</td>\n",
       "      <td>2</td>\n",
       "      <td>0</td>\n",
       "      <td>1</td>\n",
       "      <td>14</td>\n",
       "      <td>11</td>\n",
       "      <td>28</td>\n",
       "    </tr>\n",
       "    <tr>\n",
       "      <th>3653</th>\n",
       "      <td>0</td>\n",
       "      <td>1</td>\n",
       "      <td>79</td>\n",
       "      <td>156</td>\n",
       "      <td>11</td>\n",
       "      <td>7.020</td>\n",
       "      <td>20.700000</td>\n",
       "      <td>0</td>\n",
       "      <td>11</td>\n",
       "      <td>22</td>\n",
       "      <td>24</td>\n",
       "      <td>0</td>\n",
       "      <td>3</td>\n",
       "      <td>1</td>\n",
       "      <td>10</td>\n",
       "      <td>0</td>\n",
       "      <td>3</td>\n",
       "      <td>2</td>\n",
       "    </tr>\n",
       "    <tr>\n",
       "      <th>53334</th>\n",
       "      <td>0</td>\n",
       "      <td>3</td>\n",
       "      <td>83</td>\n",
       "      <td>147</td>\n",
       "      <td>622</td>\n",
       "      <td>0.288</td>\n",
       "      <td>0.689920</td>\n",
       "      <td>0</td>\n",
       "      <td>19</td>\n",
       "      <td>16</td>\n",
       "      <td>27</td>\n",
       "      <td>0</td>\n",
       "      <td>2</td>\n",
       "      <td>1</td>\n",
       "      <td>3</td>\n",
       "      <td>2</td>\n",
       "      <td>51</td>\n",
       "      <td>140</td>\n",
       "    </tr>\n",
       "    <tr>\n",
       "      <th>95255</th>\n",
       "      <td>0</td>\n",
       "      <td>6</td>\n",
       "      <td>48</td>\n",
       "      <td>691</td>\n",
       "      <td>221</td>\n",
       "      <td>1.005</td>\n",
       "      <td>1.842375</td>\n",
       "      <td>0</td>\n",
       "      <td>18</td>\n",
       "      <td>29</td>\n",
       "      <td>10</td>\n",
       "      <td>4</td>\n",
       "      <td>2</td>\n",
       "      <td>0</td>\n",
       "      <td>4</td>\n",
       "      <td>6</td>\n",
       "      <td>23</td>\n",
       "      <td>47</td>\n",
       "    </tr>\n",
       "    <tr>\n",
       "      <th>43936</th>\n",
       "      <td>0</td>\n",
       "      <td>0</td>\n",
       "      <td>75</td>\n",
       "      <td>370</td>\n",
       "      <td>414</td>\n",
       "      <td>0.102</td>\n",
       "      <td>0.196065</td>\n",
       "      <td>0</td>\n",
       "      <td>18</td>\n",
       "      <td>2</td>\n",
       "      <td>16</td>\n",
       "      <td>3</td>\n",
       "      <td>2</td>\n",
       "      <td>0</td>\n",
       "      <td>1</td>\n",
       "      <td>14</td>\n",
       "      <td>86</td>\n",
       "      <td>166</td>\n",
       "    </tr>\n",
       "    <tr>\n",
       "      <th>...</th>\n",
       "      <td>...</td>\n",
       "      <td>...</td>\n",
       "      <td>...</td>\n",
       "      <td>...</td>\n",
       "      <td>...</td>\n",
       "      <td>...</td>\n",
       "      <td>...</td>\n",
       "      <td>...</td>\n",
       "      <td>...</td>\n",
       "      <td>...</td>\n",
       "      <td>...</td>\n",
       "      <td>...</td>\n",
       "      <td>...</td>\n",
       "      <td>...</td>\n",
       "      <td>...</td>\n",
       "      <td>...</td>\n",
       "      <td>...</td>\n",
       "      <td>...</td>\n",
       "    </tr>\n",
       "    <tr>\n",
       "      <th>76820</th>\n",
       "      <td>0</td>\n",
       "      <td>2</td>\n",
       "      <td>83</td>\n",
       "      <td>256</td>\n",
       "      <td>536</td>\n",
       "      <td>0.217</td>\n",
       "      <td>0.672966</td>\n",
       "      <td>0</td>\n",
       "      <td>6</td>\n",
       "      <td>5</td>\n",
       "      <td>16</td>\n",
       "      <td>6</td>\n",
       "      <td>2</td>\n",
       "      <td>0</td>\n",
       "      <td>3</td>\n",
       "      <td>2</td>\n",
       "      <td>63</td>\n",
       "      <td>119</td>\n",
       "    </tr>\n",
       "    <tr>\n",
       "      <th>110268</th>\n",
       "      <td>0</td>\n",
       "      <td>0</td>\n",
       "      <td>33</td>\n",
       "      <td>340</td>\n",
       "      <td>605</td>\n",
       "      <td>0.545</td>\n",
       "      <td>1.641600</td>\n",
       "      <td>0</td>\n",
       "      <td>18</td>\n",
       "      <td>0</td>\n",
       "      <td>19</td>\n",
       "      <td>2</td>\n",
       "      <td>2</td>\n",
       "      <td>0</td>\n",
       "      <td>8</td>\n",
       "      <td>17</td>\n",
       "      <td>45</td>\n",
       "      <td>80</td>\n",
       "    </tr>\n",
       "    <tr>\n",
       "      <th>103694</th>\n",
       "      <td>0</td>\n",
       "      <td>7</td>\n",
       "      <td>26</td>\n",
       "      <td>619</td>\n",
       "      <td>100</td>\n",
       "      <td>0.500</td>\n",
       "      <td>1.500000</td>\n",
       "      <td>0</td>\n",
       "      <td>21</td>\n",
       "      <td>18</td>\n",
       "      <td>28</td>\n",
       "      <td>2</td>\n",
       "      <td>0</td>\n",
       "      <td>1</td>\n",
       "      <td>10</td>\n",
       "      <td>25</td>\n",
       "      <td>68</td>\n",
       "      <td>27</td>\n",
       "    </tr>\n",
       "    <tr>\n",
       "      <th>860</th>\n",
       "      <td>0</td>\n",
       "      <td>2</td>\n",
       "      <td>27</td>\n",
       "      <td>798</td>\n",
       "      <td>547</td>\n",
       "      <td>0.209</td>\n",
       "      <td>0.365625</td>\n",
       "      <td>0</td>\n",
       "      <td>6</td>\n",
       "      <td>4</td>\n",
       "      <td>16</td>\n",
       "      <td>5</td>\n",
       "      <td>2</td>\n",
       "      <td>1</td>\n",
       "      <td>3</td>\n",
       "      <td>2</td>\n",
       "      <td>63</td>\n",
       "      <td>119</td>\n",
       "    </tr>\n",
       "    <tr>\n",
       "      <th>15795</th>\n",
       "      <td>0</td>\n",
       "      <td>2</td>\n",
       "      <td>77</td>\n",
       "      <td>697</td>\n",
       "      <td>8</td>\n",
       "      <td>1.120</td>\n",
       "      <td>1.500000</td>\n",
       "      <td>0</td>\n",
       "      <td>22</td>\n",
       "      <td>6</td>\n",
       "      <td>26</td>\n",
       "      <td>5</td>\n",
       "      <td>0</td>\n",
       "      <td>0</td>\n",
       "      <td>10</td>\n",
       "      <td>25</td>\n",
       "      <td>90</td>\n",
       "      <td>1</td>\n",
       "    </tr>\n",
       "  </tbody>\n",
       "</table>\n",
       "<p>93279 rows × 18 columns</p>\n",
       "</div>"
      ],
      "text/plain": [
       "        inbnd_type  warehouse_name  supplier_id  product_id  sku_name  \\\n",
       "113833           0               8           75         365       491   \n",
       "3653             0               1           79         156        11   \n",
       "53334            0               3           83         147       622   \n",
       "95255            0               6           48         691       221   \n",
       "43936            0               0           75         370       414   \n",
       "...            ...             ...          ...         ...       ...   \n",
       "76820            0               2           83         256       536   \n",
       "110268           0               0           33         340       605   \n",
       "103694           0               7           26         619       100   \n",
       "860              0               2           27         798       547   \n",
       "15795            0               2           77         697         8   \n",
       "\n",
       "        sku_weight_kg  sku_volume_litr  sku_type  start_hour  start_day  \\\n",
       "113833          0.035         0.132000         0          11          4   \n",
       "3653            7.020        20.700000         0          11         22   \n",
       "53334           0.288         0.689920         0          19         16   \n",
       "95255           1.005         1.842375         0          18         29   \n",
       "43936           0.102         0.196065         0          18          2   \n",
       "...               ...              ...       ...         ...        ...   \n",
       "76820           0.217         0.672966         0           6          5   \n",
       "110268          0.545         1.641600         0          18          0   \n",
       "103694          0.500         1.500000         0          21         18   \n",
       "860             0.209         0.365625         0           6          4   \n",
       "15795           1.120         1.500000         0          22          6   \n",
       "\n",
       "        start_week  start_weekday  storage_condition_code  fragile_flg  \\\n",
       "113833          12              2                       2            0   \n",
       "3653            24              0                       3            1   \n",
       "53334           27              0                       2            1   \n",
       "95255           10              4                       2            0   \n",
       "43936           16              3                       2            0   \n",
       "...            ...            ...                     ...          ...   \n",
       "76820           16              6                       2            0   \n",
       "110268          19              2                       2            0   \n",
       "103694          28              2                       0            1   \n",
       "860             16              5                       2            1   \n",
       "15795           26              5                       0            0   \n",
       "\n",
       "        sku_category_level_1_nm  sku_category_level_2_nm  \\\n",
       "113833                        1                       14   \n",
       "3653                         10                        0   \n",
       "53334                         3                        2   \n",
       "95255                         4                        6   \n",
       "43936                         1                       14   \n",
       "...                         ...                      ...   \n",
       "76820                         3                        2   \n",
       "110268                        8                       17   \n",
       "103694                       10                       25   \n",
       "860                           3                        2   \n",
       "15795                        10                       25   \n",
       "\n",
       "        sku_category_level_3_nm  sku_category_level_4_nm  \n",
       "113833                       11                       28  \n",
       "3653                          3                        2  \n",
       "53334                        51                      140  \n",
       "95255                        23                       47  \n",
       "43936                        86                      166  \n",
       "...                         ...                      ...  \n",
       "76820                        63                      119  \n",
       "110268                       45                       80  \n",
       "103694                       68                       27  \n",
       "860                          63                      119  \n",
       "15795                        90                        1  \n",
       "\n",
       "[93279 rows x 18 columns]"
      ]
     },
     "execution_count": 170,
     "metadata": {},
     "output_type": "execute_result"
    }
   ],
   "source": [
    "x_train"
   ]
  },
  {
   "cell_type": "markdown",
   "id": "7b3bd586-bac3-475d-bb91-244604be3b2d",
   "metadata": {},
   "source": [
    "## Обучение модели"
   ]
  },
  {
   "cell_type": "code",
   "execution_count": 171,
   "id": "413f3b9c-cfc7-4cfb-bb6a-3208a1ef7787",
   "metadata": {},
   "outputs": [],
   "source": [
    "# 5. МАСШТАБИРОВАНИЕ ЧИСЛОВЫХ ПРИЗНАКОВ (опционально для LightGBM, но может помочь)\n",
    "scaler = StandardScaler()\n",
    "X_train_scaled = scaler.fit_transform(x_train)\n",
    "X_test_scaled = scaler.transform(x_test)"
   ]
  },
  {
   "cell_type": "code",
   "execution_count": 172,
   "id": "9d06f63b-16d1-4e0e-9cf3-5d66bd8a63c4",
   "metadata": {},
   "outputs": [],
   "source": [
    "params = {\n",
    "    'boosting_type': 'gbdt',          # тип бустинга\n",
    "    'objective': 'regression',        # задача регрессии\n",
    "    'metric': 'mae',                  # метрика - средняя абсолютная ошибка\n",
    "    'num_leaves': 31,                 # максимальное количество листьев в дереве\n",
    "    'learning_rate': 0.05,            # скорость обучения\n",
    "    'feature_fraction': 0.9,          # доля признаков для использования на каждой итерации\n",
    "    'bagging_fraction': 0.8,          # доля данных для использования на каждой итерации\n",
    "    'bagging_freq': 5,                # частота bagging\n",
    "    'verbose': 0,                     # уровень детализации вывода\n",
    "    'random_state': 42,               # для воспроизводимости\n",
    "    'n_estimators': 1000,             # количество деревьев\n",
    "    'max_depth': -1,                  # глубина деревьев (-1 = без ограничений)\n",
    "    'min_data_in_leaf': 20,           # минимальное количество данных в листе\n",
    "}"
   ]
  },
  {
   "cell_type": "code",
   "execution_count": 173,
   "id": "5840e3e1-b558-4ef8-9a36-6c96bd98b3b5",
   "metadata": {},
   "outputs": [],
   "source": [
    "train_data = lgb.Dataset(X_train_scaled, label=y_train)\n",
    "test_data = lgb.Dataset(X_test_scaled, label=y_test, reference=train_data)"
   ]
  },
  {
   "cell_type": "code",
   "execution_count": 174,
   "id": "bf42646d-099b-41a1-9890-43477e2dbb26",
   "metadata": {},
   "outputs": [
    {
     "name": "stdout",
     "output_type": "stream",
     "text": [
      "Training until validation scores don't improve for 50 rounds\n",
      "[100]\tvalid_0's l1: 6.25708\n",
      "[200]\tvalid_0's l1: 5.89168\n",
      "[300]\tvalid_0's l1: 5.65695\n",
      "[400]\tvalid_0's l1: 5.49638\n",
      "[500]\tvalid_0's l1: 5.40714\n",
      "[600]\tvalid_0's l1: 5.3352\n",
      "[700]\tvalid_0's l1: 5.29583\n",
      "[800]\tvalid_0's l1: 5.27095\n",
      "[900]\tvalid_0's l1: 5.24755\n",
      "[1000]\tvalid_0's l1: 5.22626\n",
      "Did not meet early stopping. Best iteration is:\n",
      "[1000]\tvalid_0's l1: 5.22626\n"
     ]
    }
   ],
   "source": [
    "# Обучение модели с ранней остановкой\n",
    "model = lgb.train(\n",
    "    params,\n",
    "    train_data,\n",
    "    num_boost_round=1000,\n",
    "    valid_sets=[test_data],\n",
    "    callbacks=[\n",
    "        lgb.early_stopping(stopping_rounds=50, verbose=True),\n",
    "        lgb.log_evaluation(100)\n",
    "    ]\n",
    ")"
   ]
  },
  {
   "cell_type": "code",
   "execution_count": 175,
   "id": "1c788011-8291-4406-a707-df496961aa07",
   "metadata": {},
   "outputs": [],
   "source": [
    "y_pred = model.predict(X_test_scaled)"
   ]
  },
  {
   "cell_type": "code",
   "execution_count": 176,
   "id": "f414e05b-b8d5-4a91-a04b-4a8b15509141",
   "metadata": {},
   "outputs": [
    {
     "data": {
      "text/plain": [
       "23320"
      ]
     },
     "execution_count": 176,
     "metadata": {},
     "output_type": "execute_result"
    }
   ],
   "source": [
    "len(y_test)"
   ]
  },
  {
   "cell_type": "code",
   "execution_count": 177,
   "id": "aec3e264-f5ac-4e00-af85-41f15c3eaae1",
   "metadata": {},
   "outputs": [
    {
     "name": "stdout",
     "output_type": "stream",
     "text": [
      "MAE (Средняя абсолютная ошибка): 5.23 минут\n",
      "MSE (Средняя квадратичная ошибка): 185.41\n",
      "RMSE (Корень из MSE): 13.62 минут\n",
      "R² (Коэффициент детерминации): 0.5496\n"
     ]
    }
   ],
   "source": [
    "# Метрики качества\n",
    "print(f\"MAE (Средняя абсолютная ошибка): {mean_absolute_error(y_test, y_pred):.2f} минут\")\n",
    "print(f\"MSE (Средняя квадратичная ошибка): {mean_squared_error(y_test, y_pred):.2f}\")\n",
    "print(f\"RMSE (Корень из MSE): {np.sqrt(mean_squared_error(y_test, y_pred)):.2f} минут\")\n",
    "print(f\"R² (Коэффициент детерминации): {r2_score(y_test, y_pred):.4f}\")"
   ]
  },
  {
   "cell_type": "markdown",
   "id": "0fe3ac5b-4bb1-4922-9361-2e4d4bc5f153",
   "metadata": {},
   "source": [
    "## Важность признаков"
   ]
  },
  {
   "cell_type": "code",
   "execution_count": 178,
   "id": "e1795aa1-3aeb-42c5-b95a-5934674731a5",
   "metadata": {},
   "outputs": [
    {
     "name": "stdout",
     "output_type": "stream",
     "text": [
      "\n",
      "ТОП-15 ВАЖНЕЙШИХ ПРИЗНАКОВ:\n",
      "                    feature  importance\n",
      "3                product_id        3905\n",
      "10               start_week        3236\n",
      "5             sku_weight_kg        2969\n",
      "9                 start_day        2870\n",
      "1            warehouse_name        2743\n",
      "4                  sku_name        2540\n",
      "8                start_hour        2292\n",
      "11            start_weekday        1953\n",
      "6           sku_volume_litr        1919\n",
      "2               supplier_id        1880\n",
      "17  sku_category_level_4_nm        1227\n",
      "16  sku_category_level_3_nm         815\n",
      "15  sku_category_level_2_nm         656\n",
      "14  sku_category_level_1_nm         390\n",
      "0                inbnd_type         313\n"
     ]
    }
   ],
   "source": [
    "# 8. ВАЖНОСТЬ ПРИЗНАКОВ\n",
    "feature_importance = pd.DataFrame({\n",
    "    'feature': x_train.columns,\n",
    "    'importance': model.feature_importance()\n",
    "}).sort_values('importance', ascending=False)\n",
    "\n",
    "print(\"\\nТОП-15 ВАЖНЕЙШИХ ПРИЗНАКОВ:\")\n",
    "print(feature_importance.head(15))"
   ]
  },
  {
   "cell_type": "code",
   "execution_count": 179,
   "id": "4bc9f4dc-efec-4e18-927c-231e30080ece",
   "metadata": {},
   "outputs": [
    {
     "data": {
      "image/png": "[encoded data removed]",
      "text/plain": [
       "<Figure size 800x400 with 1 Axes>"
      ]
     },
     "metadata": {},
     "output_type": "display_data"
    }
   ],
   "source": [
    "# 9. ВИЗУАЛИЗАЦИЯ ПРЕДСКАЗАНИЙ vs РЕАЛЬНЫЕ ЗНАЧЕНИЯ\n",
    "plt.figure(figsize=(8, 4))\n",
    "plt.scatter(y_test, y_pred, alpha=0.5)\n",
    "plt.plot([y_test.min(), y_test.max()], [y_test.min(), y_test.max()], 'r--', lw=2)\n",
    "plt.xlabel('Реальные значения времени (минуты)')\n",
    "plt.ylabel('Предсказанные значения времени (минуты)')\n",
    "plt.title('Предсказания vs Реальные значения')\n",
    "plt.show()"
   ]
  },
  {
   "cell_type": "code",
   "execution_count": 180,
   "id": "35097352-2f08-4b6f-8ed0-7edc2612dccc",
   "metadata": {},
   "outputs": [
    {
     "data": {
      "image/png": "[encoded data removed]",
      "text/plain": [
       "<Figure size 800x400 with 1 Axes>"
      ]
     },
     "metadata": {},
     "output_type": "display_data"
    }
   ],
   "source": [
    "# 10. АНАЛИЗ ОШИБОК\n",
    "errors = y_test - y_pred\n",
    "plt.figure(figsize=(8, 4))\n",
    "sns.histplot(errors, kde=True)\n",
    "plt.title('Распределение ошибок предсказания')\n",
    "plt.xlabel('Ошибка (минуты)')\n",
    "plt.show()"
   ]
  },
  {
   "cell_type": "code",
   "execution_count": 182,
   "id": "0e5c9889-82fe-429d-8863-7d92a75281ab",
   "metadata": {},
   "outputs": [
    {
     "name": "stdout",
     "output_type": "stream",
     "text": [
      "Файл сохранен: predictions_results.csv\n",
      "Количество строк: 23320\n",
      "Средняя ошибка: 5.23 минут\n"
     ]
    }
   ],
   "source": [
    "# Создаем DataFrame с результатами\n",
    "#results_df = x_test.copy()\n",
    "results_df = original_data.loc[test_indices].copy()\n",
    "\n",
    "# Добавляем предсказания и фактические значения\n",
    "results_df['predicted_time'] = y_pred\n",
    "results_df['actual_time'] = y_test\n",
    "\n",
    "# Вычисляем ошибку\n",
    "results_df['error'] = results_df['actual_time'] - results_df['predicted_time']\n",
    "results_df['absolute_error'] = abs(results_df['error'])\n",
    "\n",
    "# Сохраняем в CSV\n",
    "results_df.to_csv('predictions_results.csv', index=False, encoding='utf-8-sig',sep='|')\n",
    "\n",
    "print(\"Файл сохранен: predictions_results.csv\")\n",
    "print(f\"Количество строк: {len(results_df)}\")\n",
    "print(f\"Средняя ошибка: {results_df['absolute_error'].mean():.2f} минут\")"
   ]
  },
  {
   "cell_type": "code",
   "execution_count": null,
   "id": "ab8cd178-c2f2-4406-8017-8a6945996b8e",
   "metadata": {},
   "outputs": [],
   "source": []
  }
 ],
 "metadata": {
  "kernelspec": {
   "display_name": "Python 3 (ipykernel)",
   "language": "python",
   "name": "python3"
  },
  "language_info": {
   "codemirror_mode": {
    "name": "ipython",
    "version": 3
   },
   "file_extension": ".py",
   "mimetype": "text/x-python",
   "name": "python",
   "nbconvert_exporter": "python",
   "pygments_lexer": "ipython3",
   "version": "3.13.5"
  }
 },
 "nbformat": 4,
 "nbformat_minor": 5
}
