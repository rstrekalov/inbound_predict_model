{
 "cells": [
  {
   "cell_type": "code",
   "execution_count": 165,
   "id": "82ca3487-a76b-494b-ae95-06fa34f2e271",
   "metadata": {},
   "outputs": [],
   "source": [
    "import pandas as pd\n",
    "import numpy as np\n",
    "import matplotlib.pyplot as plt\n",
    "import seaborn as sns\n",
    "from sklearn.model_selection import train_test_split, cross_val_score, GridSearchCV\n",
    "from sklearn.preprocessing import LabelEncoder, StandardScaler\n",
    "from sklearn.metrics import mean_absolute_error, mean_squared_error, r2_score\n",
    "import lightgbm as lgb\n",
    "import warnings\n",
    "warnings.filterwarnings('ignore')"
   ]
  },
  {
   "cell_type": "code",
   "execution_count": 171,
   "id": "18bf8dd9-6a29-435e-895d-01230d9bf363",
   "metadata": {},
   "outputs": [],
   "source": [
    "data = pd.read_csv('input_data_10.csv')"
   ]
  },
  {
   "cell_type": "code",
   "execution_count": 172,
   "id": "37d494ab-b72c-4b3e-a951-e19994f34a04",
   "metadata": {},
   "outputs": [
    {
     "data": {
      "text/html": [
       "<div>\n",
       "<style scoped>\n",
       "    .dataframe tbody tr th:only-of-type {\n",
       "        vertical-align: middle;\n",
       "    }\n",
       "\n",
       "    .dataframe tbody tr th {\n",
       "        vertical-align: top;\n",
       "    }\n",
       "\n",
       "    .dataframe thead th {\n",
       "        text-align: right;\n",
       "    }\n",
       "</style>\n",
       "<table border=\"1\" class=\"dataframe\">\n",
       "  <thead>\n",
       "    <tr style=\"text-align: right;\">\n",
       "      <th></th>\n",
       "      <th>task_id</th>\n",
       "      <th>receipt_id</th>\n",
       "      <th>supplier_id</th>\n",
       "      <th>product_id</th>\n",
       "      <th>sku_name</th>\n",
       "      <th>sku_weight_kg</th>\n",
       "      <th>sku_volume_litr</th>\n",
       "      <th>sku_type</th>\n",
       "      <th>planned_quantity</th>\n",
       "      <th>accepted_quantity</th>\n",
       "      <th>planned_weight_kg</th>\n",
       "      <th>accepted_weight_kg</th>\n",
       "      <th>accepted_volume_litr</th>\n",
       "      <th>started_at</th>\n",
       "      <th>finished_at</th>\n",
       "      <th>inbnd_duration_min</th>\n",
       "    </tr>\n",
       "  </thead>\n",
       "  <tbody>\n",
       "    <tr>\n",
       "      <th>0</th>\n",
       "      <td>c803143d-f9ba-4eab-969c-7ed4d3c87021</td>\n",
       "      <td>1003768954</td>\n",
       "      <td>29812d04-eccd-11e8-80c5-0cc47a817925</td>\n",
       "      <td>1738eae4-1efb-11ed-b96c-08c0eb32008b</td>\n",
       "      <td>Фрикадельки Мираторг Традиционные свиные, говя...</td>\n",
       "      <td>0.258</td>\n",
       "      <td>1.19700</td>\n",
       "      <td>piece</td>\n",
       "      <td>24.0</td>\n",
       "      <td>24.0</td>\n",
       "      <td>6.192</td>\n",
       "      <td>6.192</td>\n",
       "      <td>28.7280</td>\n",
       "      <td>2025-07-09 09:36:28.045</td>\n",
       "      <td>2025-07-09 09:47:30.221</td>\n",
       "      <td>11.036275</td>\n",
       "    </tr>\n",
       "    <tr>\n",
       "      <th>1</th>\n",
       "      <td>ea068993-ab6f-4b81-81e0-08605c22c4c2</td>\n",
       "      <td>1003769128</td>\n",
       "      <td>29812d04-eccd-11e8-80c5-0cc47a817925</td>\n",
       "      <td>1738eae4-1efb-11ed-b96c-08c0eb32008b</td>\n",
       "      <td>Фрикадельки Мираторг Традиционные свиные, говя...</td>\n",
       "      <td>0.258</td>\n",
       "      <td>1.19700</td>\n",
       "      <td>piece</td>\n",
       "      <td>16.0</td>\n",
       "      <td>16.0</td>\n",
       "      <td>4.128</td>\n",
       "      <td>4.128</td>\n",
       "      <td>19.1520</td>\n",
       "      <td>2025-07-10 12:21:08.970</td>\n",
       "      <td>2025-07-10 12:27:14.467</td>\n",
       "      <td>6.091615</td>\n",
       "    </tr>\n",
       "    <tr>\n",
       "      <th>2</th>\n",
       "      <td>da731ba4-2944-492e-b282-9a9c89a4d682</td>\n",
       "      <td>1003759180</td>\n",
       "      <td>c7a48c69-0381-11e9-80c5-0cc47a817925</td>\n",
       "      <td>33eae969-fa98-11e8-80c5-0cc47a817925</td>\n",
       "      <td>Творожок Даниссимо с изысканным шоколадом, 6,7...</td>\n",
       "      <td>0.139</td>\n",
       "      <td>0.34132</td>\n",
       "      <td>piece</td>\n",
       "      <td>120.0</td>\n",
       "      <td>120.0</td>\n",
       "      <td>16.680</td>\n",
       "      <td>16.680</td>\n",
       "      <td>40.9584</td>\n",
       "      <td>2025-07-03 15:13:51.271</td>\n",
       "      <td>2025-07-03 16:15:46.433</td>\n",
       "      <td>61.919370</td>\n",
       "    </tr>\n",
       "  </tbody>\n",
       "</table>\n",
       "</div>"
      ],
      "text/plain": [
       "                                task_id  receipt_id  \\\n",
       "0  c803143d-f9ba-4eab-969c-7ed4d3c87021  1003768954   \n",
       "1  ea068993-ab6f-4b81-81e0-08605c22c4c2  1003769128   \n",
       "2  da731ba4-2944-492e-b282-9a9c89a4d682  1003759180   \n",
       "\n",
       "                            supplier_id                            product_id  \\\n",
       "0  29812d04-eccd-11e8-80c5-0cc47a817925  1738eae4-1efb-11ed-b96c-08c0eb32008b   \n",
       "1  29812d04-eccd-11e8-80c5-0cc47a817925  1738eae4-1efb-11ed-b96c-08c0eb32008b   \n",
       "2  c7a48c69-0381-11e9-80c5-0cc47a817925  33eae969-fa98-11e8-80c5-0cc47a817925   \n",
       "\n",
       "                                            sku_name  sku_weight_kg  \\\n",
       "0  Фрикадельки Мираторг Традиционные свиные, говя...          0.258   \n",
       "1  Фрикадельки Мираторг Традиционные свиные, говя...          0.258   \n",
       "2  Творожок Даниссимо с изысканным шоколадом, 6,7...          0.139   \n",
       "\n",
       "   sku_volume_litr sku_type  planned_quantity  accepted_quantity  \\\n",
       "0          1.19700    piece              24.0               24.0   \n",
       "1          1.19700    piece              16.0               16.0   \n",
       "2          0.34132    piece             120.0              120.0   \n",
       "\n",
       "   planned_weight_kg  accepted_weight_kg  accepted_volume_litr  \\\n",
       "0              6.192               6.192               28.7280   \n",
       "1              4.128               4.128               19.1520   \n",
       "2             16.680              16.680               40.9584   \n",
       "\n",
       "                started_at              finished_at  inbnd_duration_min  \n",
       "0  2025-07-09 09:36:28.045  2025-07-09 09:47:30.221           11.036275  \n",
       "1  2025-07-10 12:21:08.970  2025-07-10 12:27:14.467            6.091615  \n",
       "2  2025-07-03 15:13:51.271  2025-07-03 16:15:46.433           61.919370  "
      ]
     },
     "execution_count": 172,
     "metadata": {},
     "output_type": "execute_result"
    }
   ],
   "source": [
    "data.head(3)"
   ]
  },
  {
   "cell_type": "markdown",
   "id": "3f7045ac-0298-44af-a38c-db3e0b6247ba",
   "metadata": {},
   "source": [
    "### Data discovery"
   ]
  },
  {
   "cell_type": "code",
   "execution_count": 173,
   "id": "9e338114-8a5f-4715-b3ab-92a46f2308f2",
   "metadata": {},
   "outputs": [
    {
     "data": {
      "text/plain": [
       "<Axes: >"
      ]
     },
     "execution_count": 173,
     "metadata": {},
     "output_type": "execute_result"
    },
    {
     "data": {
      "image/png": "[encoded data removed]",
      "text/plain": [
       "<Figure size 640x480 with 1 Axes>"
      ]
     },
     "metadata": {},
     "output_type": "display_data"
    }
   ],
   "source": [
    "product_data = data.copy()\n",
    "product_data = product_data[product_data['product_id']=='1738eae4-1efb-11ed-b96c-08c0eb32008b']\n",
    "product_data = product_data[['inbnd_duration_min','accepted_quantity']]\n",
    "product_data['item_inbnd_duration_min'] = product_data['inbnd_duration_min']/product_data['accepted_quantity']\n",
    "product_data['item_inbnd_duration_min'].hist()"
   ]
  },
  {
   "cell_type": "markdown",
   "id": "c66da934-c7e7-4cac-a0bf-aa9add44682f",
   "metadata": {},
   "source": [
    "### Преобразование данных"
   ]
  },
  {
   "cell_type": "code",
   "execution_count": 174,
   "id": "b9afedfe-e13e-4cf1-8656-30406a7e9d46",
   "metadata": {},
   "outputs": [],
   "source": [
    "df = data.copy()"
   ]
  },
  {
   "cell_type": "code",
   "execution_count": 175,
   "id": "e1c193db-d8cc-4f4c-8f26-ae37689e9f45",
   "metadata": {},
   "outputs": [
    {
     "data": {
      "text/plain": [
       "35681"
      ]
     },
     "execution_count": 175,
     "metadata": {},
     "output_type": "execute_result"
    }
   ],
   "source": [
    "len(df)"
   ]
  },
  {
   "cell_type": "code",
   "execution_count": 176,
   "id": "96c95eab-1474-466d-9c76-bca8c97512d9",
   "metadata": {},
   "outputs": [],
   "source": [
    "df['started_at'] = pd.to_datetime(df['started_at'])\n",
    "df['finished_at'] = pd.to_datetime(df['finished_at'])\n",
    "df['hour'] = df['started_at'].dt.hour.astype(str)\n",
    "df['day_of_week'] = df['started_at'].dt.dayofweek.astype(str)\n",
    "df['month'] = df['started_at'].dt.month.astype(str)\n",
    "df['day'] = df['started_at'].dt.day.astype(str)"
   ]
  },
  {
   "cell_type": "code",
   "execution_count": 177,
   "id": "0662f6bf-a57a-43e3-9f29-f06282ac128f",
   "metadata": {},
   "outputs": [],
   "source": [
    "def handle_missing_data(df):\n",
    "    numeric_cols = df.select_dtypes(include=[np.number]).columns\n",
    "    for col in numeric_cols:\n",
    "        df[col].fillna(df[col].median(), inplace=True)\n",
    "    \n",
    "    categorical_cols = df.select_dtypes(include=['object']).columns\n",
    "    for col in categorical_cols:\n",
    "        df[col].fillna('Unknown', inplace=True)\n",
    "    \n",
    "    return df"
   ]
  },
  {
   "cell_type": "code",
   "execution_count": 178,
   "id": "2592f067-7c7a-4ec8-9bbc-b57c7da19ba4",
   "metadata": {},
   "outputs": [],
   "source": [
    "def encode_categorical_features(df):\n",
    "    le = LabelEncoder()\n",
    "    categorical_cols = df.select_dtypes(include=['object']).columns\n",
    "    \n",
    "    for col in categorical_cols:\n",
    "        df[col] = le.fit_transform(df[col].astype(str))\n",
    "    \n",
    "    return df"
   ]
  },
  {
   "cell_type": "code",
   "execution_count": 179,
   "id": "f281b2de-bf38-43ed-9311-0bcea7952390",
   "metadata": {},
   "outputs": [],
   "source": [
    "df = handle_missing_data(df)\n",
    "df = encode_categorical_features(df)"
   ]
  },
  {
   "cell_type": "code",
   "execution_count": 180,
   "id": "adfce8f6-19d5-4bf3-9a2b-ec21785c627e",
   "metadata": {},
   "outputs": [],
   "source": [
    "x = df.drop(['sku_name',\n",
    "             'receipt_id',\n",
    "             'task_id',\n",
    "             'sku_type',\n",
    "             'accepted_quantity',\n",
    "             'accepted_weight_kg',\n",
    "             'accepted_volume_litr',\n",
    "            'started_at',\n",
    "            'finished_at',\n",
    "            'inbnd_duration_min'], axis=1)\n",
    "y = df['inbnd_duration_min']"
   ]
  },
  {
   "cell_type": "code",
   "execution_count": 181,
   "id": "e5afc5c4-0824-4046-b81f-b8cf7a9b46b9",
   "metadata": {},
   "outputs": [],
   "source": [
    "x_train, x_test, y_train, y_test = train_test_split(\n",
    "    x, y, test_size=0.2, random_state=42\n",
    ")"
   ]
  },
  {
   "cell_type": "markdown",
   "id": "7b3bd586-bac3-475d-bb91-244604be3b2d",
   "metadata": {},
   "source": [
    "## Обучение модели"
   ]
  },
  {
   "cell_type": "code",
   "execution_count": 182,
   "id": "413f3b9c-cfc7-4cfb-bb6a-3208a1ef7787",
   "metadata": {},
   "outputs": [],
   "source": [
    "# 5. МАСШТАБИРОВАНИЕ ЧИСЛОВЫХ ПРИЗНАКОВ (опционально для LightGBM, но может помочь)\n",
    "scaler = StandardScaler()\n",
    "X_train_scaled = scaler.fit_transform(x_train)\n",
    "X_test_scaled = scaler.transform(x_test)"
   ]
  },
  {
   "cell_type": "code",
   "execution_count": 183,
   "id": "9d06f63b-16d1-4e0e-9cf3-5d66bd8a63c4",
   "metadata": {},
   "outputs": [],
   "source": [
    "params = {\n",
    "    'boosting_type': 'gbdt',          # тип бустинга\n",
    "    'objective': 'regression',        # задача регрессии\n",
    "    'metric': 'mae',                  # метрика - средняя абсолютная ошибка\n",
    "    'num_leaves': 31,                 # максимальное количество листьев в дереве\n",
    "    'learning_rate': 0.05,            # скорость обучения\n",
    "    'feature_fraction': 0.9,          # доля признаков для использования на каждой итерации\n",
    "    'bagging_fraction': 0.8,          # доля данных для использования на каждой итерации\n",
    "    'bagging_freq': 5,                # частота bagging\n",
    "    'verbose': 0,                     # уровень детализации вывода\n",
    "    'random_state': 42,               # для воспроизводимости\n",
    "    'n_estimators': 1000,             # количество деревьев\n",
    "    'max_depth': -1,                  # глубина деревьев (-1 = без ограничений)\n",
    "    'min_data_in_leaf': 20,           # минимальное количество данных в листе\n",
    "}"
   ]
  },
  {
   "cell_type": "code",
   "execution_count": 184,
   "id": "5840e3e1-b558-4ef8-9a36-6c96bd98b3b5",
   "metadata": {},
   "outputs": [],
   "source": [
    "train_data = lgb.Dataset(X_train_scaled, label=y_train)\n",
    "test_data = lgb.Dataset(X_test_scaled, label=y_test, reference=train_data)"
   ]
  },
  {
   "cell_type": "code",
   "execution_count": 185,
   "id": "bf42646d-099b-41a1-9890-43477e2dbb26",
   "metadata": {},
   "outputs": [
    {
     "name": "stdout",
     "output_type": "stream",
     "text": [
      "Training until validation scores don't improve for 50 rounds\n",
      "[100]\tvalid_0's l1: 13.6976\n",
      "[200]\tvalid_0's l1: 11.4127\n",
      "[300]\tvalid_0's l1: 9.93532\n",
      "[400]\tvalid_0's l1: 9.05084\n",
      "[500]\tvalid_0's l1: 8.43879\n",
      "[600]\tvalid_0's l1: 7.97076\n",
      "[700]\tvalid_0's l1: 7.64693\n",
      "[800]\tvalid_0's l1: 7.40252\n",
      "[900]\tvalid_0's l1: 7.14084\n",
      "[1000]\tvalid_0's l1: 6.91075\n",
      "Did not meet early stopping. Best iteration is:\n",
      "[998]\tvalid_0's l1: 6.91059\n"
     ]
    }
   ],
   "source": [
    "# Обучение модели с ранней остановкой\n",
    "model = lgb.train(\n",
    "    params,\n",
    "    train_data,\n",
    "    num_boost_round=1000,\n",
    "    valid_sets=[test_data],\n",
    "    callbacks=[\n",
    "        lgb.early_stopping(stopping_rounds=50, verbose=True),\n",
    "        lgb.log_evaluation(100)\n",
    "    ]\n",
    ")"
   ]
  },
  {
   "cell_type": "code",
   "execution_count": 186,
   "id": "1c788011-8291-4406-a707-df496961aa07",
   "metadata": {},
   "outputs": [],
   "source": [
    "y_pred = model.predict(X_test_scaled)"
   ]
  },
  {
   "cell_type": "code",
   "execution_count": 187,
   "id": "aec3e264-f5ac-4e00-af85-41f15c3eaae1",
   "metadata": {},
   "outputs": [
    {
     "name": "stdout",
     "output_type": "stream",
     "text": [
      "\n",
      "==================================================\n",
      "ОЦЕНКА КАЧЕСТВА МОДЕЛИ\n",
      "==================================================\n",
      "MAE (Средняя абсолютная ошибка): 6.91 минут\n",
      "MSE (Средняя квадратичная ошибка): 113.35\n",
      "RMSE (Корень из MSE): 10.65 минут\n",
      "R² (Коэффициент детерминации): 0.9380\n"
     ]
    }
   ],
   "source": [
    "# Метрики качества\n",
    "print(\"\\n\" + \"=\"*50)\n",
    "print(\"ОЦЕНКА КАЧЕСТВА МОДЕЛИ\")\n",
    "print(\"=\"*50)\n",
    "print(f\"MAE (Средняя абсолютная ошибка): {mean_absolute_error(y_test, y_pred):.2f} минут\")\n",
    "print(f\"MSE (Средняя квадратичная ошибка): {mean_squared_error(y_test, y_pred):.2f}\")\n",
    "print(f\"RMSE (Корень из MSE): {np.sqrt(mean_squared_error(y_test, y_pred)):.2f} минут\")\n",
    "print(f\"R² (Коэффициент детерминации): {r2_score(y_test, y_pred):.4f}\")"
   ]
  },
  {
   "cell_type": "markdown",
   "id": "0fe3ac5b-4bb1-4922-9361-2e4d4bc5f153",
   "metadata": {},
   "source": [
    "## Важность признаков"
   ]
  },
  {
   "cell_type": "code",
   "execution_count": 188,
   "id": "e1795aa1-3aeb-42c5-b95a-5934674731a5",
   "metadata": {},
   "outputs": [
    {
     "name": "stdout",
     "output_type": "stream",
     "text": [
      "\n",
      "ТОП-15 ВАЖНЕЙШИХ ПРИЗНАКОВ:\n",
      "             feature  importance\n",
      "0        supplier_id        5846\n",
      "9                day        5825\n",
      "6               hour        3768\n",
      "7        day_of_week        2837\n",
      "2      sku_weight_kg        2507\n",
      "3    sku_volume_litr        2427\n",
      "4   planned_quantity        1783\n",
      "5  planned_weight_kg        1715\n",
      "1         product_id        1654\n",
      "8              month        1578\n"
     ]
    }
   ],
   "source": [
    "# 8. ВАЖНОСТЬ ПРИЗНАКОВ\n",
    "feature_importance = pd.DataFrame({\n",
    "    'feature': X.columns,\n",
    "    'importance': model.feature_importance()\n",
    "}).sort_values('importance', ascending=False)\n",
    "\n",
    "print(\"\\nТОП-15 ВАЖНЕЙШИХ ПРИЗНАКОВ:\")\n",
    "print(feature_importance.head(15))"
   ]
  },
  {
   "cell_type": "code",
   "execution_count": 189,
   "id": "4bc9f4dc-efec-4e18-927c-231e30080ece",
   "metadata": {},
   "outputs": [
    {
     "data": {
      "image/png": "[encoded data removed]",
      "text/plain": [
       "<Figure size 800x400 with 1 Axes>"
      ]
     },
     "metadata": {},
     "output_type": "display_data"
    }
   ],
   "source": [
    "# 9. ВИЗУАЛИЗАЦИЯ ПРЕДСКАЗАНИЙ vs РЕАЛЬНЫЕ ЗНАЧЕНИЯ\n",
    "plt.figure(figsize=(8, 4))\n",
    "plt.scatter(y_test, y_pred, alpha=0.5)\n",
    "plt.plot([y_test.min(), y_test.max()], [y_test.min(), y_test.max()], 'r--', lw=2)\n",
    "plt.xlabel('Реальные значения времени (минуты)')\n",
    "plt.ylabel('Предсказанные значения времени (минуты)')\n",
    "plt.title('Предсказания vs Реальные значения')\n",
    "plt.show()"
   ]
  },
  {
   "cell_type": "code",
   "execution_count": 190,
   "id": "35097352-2f08-4b6f-8ed0-7edc2612dccc",
   "metadata": {},
   "outputs": [
    {
     "data": {
      "image/png": "[encoded data removed]",
      "text/plain": [
       "<Figure size 800x400 with 1 Axes>"
      ]
     },
     "metadata": {},
     "output_type": "display_data"
    }
   ],
   "source": [
    "# 10. АНАЛИЗ ОШИБОК\n",
    "errors = y_test - y_pred\n",
    "plt.figure(figsize=(8, 4))\n",
    "sns.histplot(errors, kde=True)\n",
    "plt.title('Распределение ошибок предсказания')\n",
    "plt.xlabel('Ошибка (минуты)')\n",
    "plt.show()"
   ]
  },
  {
   "cell_type": "code",
   "execution_count": 191,
   "id": "0e5c9889-82fe-429d-8863-7d92a75281ab",
   "metadata": {},
   "outputs": [
    {
     "name": "stdout",
     "output_type": "stream",
     "text": [
      "Файл сохранен: predictions_results.csv\n",
      "Количество строк: 7137\n",
      "Средняя ошибка: 6.91 минут\n"
     ]
    }
   ],
   "source": [
    "# Создаем DataFrame с результатами\n",
    "results_df = x_test.copy()\n",
    "\n",
    "# Добавляем предсказания и фактические значения\n",
    "results_df['predicted_time'] = y_pred\n",
    "results_df['actual_time'] = y_test\n",
    "\n",
    "# Вычисляем ошибку\n",
    "results_df['error'] = results_df['actual_time'] - results_df['predicted_time']\n",
    "results_df['absolute_error'] = abs(results_df['error'])\n",
    "\n",
    "# Сохраняем в CSV\n",
    "results_df.to_csv('predictions_results.csv', index=False, encoding='utf-8-sig')\n",
    "\n",
    "print(\"Файл сохранен: predictions_results.csv\")\n",
    "print(f\"Количество строк: {len(results_df)}\")\n",
    "print(f\"Средняя ошибка: {results_df['absolute_error'].mean():.2f} минут\")"
   ]
  },
  {
   "cell_type": "code",
   "execution_count": null,
   "id": "ab8cd178-c2f2-4406-8017-8a6945996b8e",
   "metadata": {},
   "outputs": [],
   "source": []
  }
 ],
 "metadata": {
  "kernelspec": {
   "display_name": "Python 3 (ipykernel)",
   "language": "python",
   "name": "python3"
  },
  "language_info": {
   "codemirror_mode": {
    "name": "ipython",
    "version": 3
   },
   "file_extension": ".py",
   "mimetype": "text/x-python",
   "name": "python",
   "nbconvert_exporter": "python",
   "pygments_lexer": "ipython3",
   "version": "3.13.5"
  }
 },
 "nbformat": 4,
 "nbformat_minor": 5
}
