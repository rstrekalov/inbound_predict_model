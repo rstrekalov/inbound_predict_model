{
 "cells": [
  {
   "cell_type": "code",
   "execution_count": 86,
   "id": "82ca3487-a76b-494b-ae95-06fa34f2e271",
   "metadata": {},
   "outputs": [],
   "source": [
    "import pandas as pd\n",
    "import numpy as np\n",
    "import matplotlib.pyplot as plt\n",
    "import seaborn as sns\n",
    "from sklearn.model_selection import train_test_split, cross_val_score, GridSearchCV\n",
    "from sklearn.preprocessing import LabelEncoder, StandardScaler\n",
    "from sklearn.metrics import mean_absolute_error, mean_squared_error, r2_score\n",
    "from sklearn.metrics import mean_absolute_error, mean_squared_error, r2_score\n",
    "import lightgbm as lgb\n",
    "import warnings\n",
    "warnings.filterwarnings('ignore')"
   ]
  },
  {
   "cell_type": "code",
   "execution_count": 87,
   "id": "5a81ad89-baf6-4fbd-a930-ba3cc90a9c6b",
   "metadata": {},
   "outputs": [],
   "source": [
    "data = pd.read_csv(\"input_data-1758089999111.csv\")"
   ]
  },
  {
   "cell_type": "code",
   "execution_count": 88,
   "id": "7c0a9082-7723-43e9-971b-62bb6401bef8",
   "metadata": {},
   "outputs": [],
   "source": [
    "original_data = data.copy()\n",
    "original_data = original_data.dropna()"
   ]
  },
  {
   "cell_type": "code",
   "execution_count": 89,
   "id": "f382479e-43b8-428d-9253-15a3d1fda2a4",
   "metadata": {},
   "outputs": [
    {
     "data": {
      "text/html": [
       "<div>\n",
       "<style scoped>\n",
       "    .dataframe tbody tr th:only-of-type {\n",
       "        vertical-align: middle;\n",
       "    }\n",
       "\n",
       "    .dataframe tbody tr th {\n",
       "        vertical-align: top;\n",
       "    }\n",
       "\n",
       "    .dataframe thead th {\n",
       "        text-align: right;\n",
       "    }\n",
       "</style>\n",
       "<table border=\"1\" class=\"dataframe\">\n",
       "  <thead>\n",
       "    <tr style=\"text-align: right;\">\n",
       "      <th></th>\n",
       "      <th>receipt_id</th>\n",
       "      <th>start_hour</th>\n",
       "      <th>start_day</th>\n",
       "      <th>start_week</th>\n",
       "      <th>start_weekday</th>\n",
       "      <th>warehouse_name</th>\n",
       "      <th>supplier_id</th>\n",
       "      <th>inbnd_type</th>\n",
       "      <th>sku_category_level_4_nm</th>\n",
       "      <th>sku_category_cnt</th>\n",
       "      <th>inbnd_duration_min</th>\n",
       "    </tr>\n",
       "  </thead>\n",
       "  <tbody>\n",
       "    <tr>\n",
       "      <th>0</th>\n",
       "      <td>1003688760</td>\n",
       "      <td>13</td>\n",
       "      <td>29</td>\n",
       "      <td>22</td>\n",
       "      <td>4</td>\n",
       "      <td>РЦ СБЛ ВЛГ-2 WMS</td>\n",
       "      <td>a122042b-f9c7-11ea-8599-1c34dae33151</td>\n",
       "      <td>Хранение от поставщика</td>\n",
       "      <td>Воды минеральные менее 0,8л</td>\n",
       "      <td>800.0</td>\n",
       "      <td>0.966624</td>\n",
       "    </tr>\n",
       "  </tbody>\n",
       "</table>\n",
       "</div>"
      ],
      "text/plain": [
       "   receipt_id  start_hour  start_day  start_week  start_weekday  \\\n",
       "0  1003688760          13         29          22              4   \n",
       "\n",
       "     warehouse_name                           supplier_id  \\\n",
       "0  РЦ СБЛ ВЛГ-2 WMS  a122042b-f9c7-11ea-8599-1c34dae33151   \n",
       "\n",
       "               inbnd_type      sku_category_level_4_nm  sku_category_cnt  \\\n",
       "0  Хранение от поставщика  Воды минеральные менее 0,8л             800.0   \n",
       "\n",
       "   inbnd_duration_min  \n",
       "0            0.966624  "
      ]
     },
     "execution_count": 89,
     "metadata": {},
     "output_type": "execute_result"
    }
   ],
   "source": [
    "original_data.head(1)"
   ]
  },
  {
   "cell_type": "markdown",
   "id": "f426983e-0ebc-47d2-8b1f-9867690ce56a",
   "metadata": {},
   "source": [
    "## Преобразование данных"
   ]
  },
  {
   "cell_type": "code",
   "execution_count": 112,
   "id": "3edb5d23-84f0-4fc0-942f-7f48f3af953e",
   "metadata": {},
   "outputs": [],
   "source": [
    "original_data['start_hour_sin'] = np.sin(2 * np.pi * original_data['start_hour'] / 24)\n",
    "original_data['start_hour_cos'] = np.cos(2 * np.pi * original_data['start_hour'] / 24)\n",
    "\n",
    "original_data['start_week_sin'] = np.sin(2 * np.pi * original_data['start_week'] / 7)\n",
    "original_data['start_week_cos'] = np.cos(2 * np.pi * original_data['start_week'] / 7)\n",
    "\n",
    "original_data['start_weekday_sin'] = np.sin(2 * np.pi * original_data['start_weekday'] / 52)\n",
    "original_data['start_weekday_cos'] = np.cos(2 * np.pi * original_data['start_weekday'] / 52)\n",
    "\n",
    "\n",
    "# x_train['start_hour'] = x_train['start_hour'].astype(str)\n",
    "# x_train['start_day'] = x_train['start_day'].astype(str)\n",
    "# x_train['start_week'] = x_train['start_week'].astype(str)\n",
    "# x_train['start_weekday'] = x_train['start_weekday'].astype(str)\n",
    "\n",
    "# x_test['start_hour'] = x_test['start_hour'].astype(str)\n",
    "# x_test['start_day'] = x_test['start_day'].astype(str)\n",
    "# x_test['start_week'] = x_test['start_week'].astype(str)\n",
    "# x_test['start_weekday'] = x_test['start_weekday'].astype(str)"
   ]
  },
  {
   "cell_type": "markdown",
   "id": "f5e32324-61fe-4dc1-9ea8-3e1919a8a1b6",
   "metadata": {},
   "source": [
    "## Деление выборки"
   ]
  },
  {
   "cell_type": "code",
   "execution_count": 91,
   "id": "09212beb-0227-41f2-8457-ceac574ccc6c",
   "metadata": {},
   "outputs": [],
   "source": [
    "x = original_data.drop(['inbnd_duration_min'], axis=1)\n",
    "y = original_data['inbnd_duration_min']"
   ]
  },
  {
   "cell_type": "markdown",
   "id": "476e2d5b-6ddc-4ed5-a828-e87ed43f9e48",
   "metadata": {},
   "source": [
    "Логарифмирование "
   ]
  },
  {
   "cell_type": "code",
   "execution_count": 92,
   "id": "2ef8b9b3-2c0b-4d32-b759-6cb83fc9c721",
   "metadata": {},
   "outputs": [],
   "source": [
    "y_log = np.log1p(y)"
   ]
  },
  {
   "cell_type": "code",
   "execution_count": 93,
   "id": "5a8d4113-6dc9-4f15-8657-1644ee47d1b2",
   "metadata": {},
   "outputs": [],
   "source": [
    "x_train, x_test, y_train_log, y_test_log = train_test_split(\n",
    "    x , y_log, test_size=0.2, random_state=42, stratify=None\n",
    ")"
   ]
  },
  {
   "cell_type": "code",
   "execution_count": 94,
   "id": "efae4c3f-5df4-4561-b818-ee21bddf6958",
   "metadata": {},
   "outputs": [],
   "source": [
    "test_indices = x_test.index"
   ]
  },
  {
   "cell_type": "code",
   "execution_count": 95,
   "id": "c4e9a74d-c3f1-4c10-9916-2c88d3860fde",
   "metadata": {},
   "outputs": [
    {
     "data": {
      "text/plain": [
       "399"
      ]
     },
     "execution_count": 95,
     "metadata": {},
     "output_type": "execute_result"
    }
   ],
   "source": [
    "len(x_test)"
   ]
  },
  {
   "cell_type": "code",
   "execution_count": 97,
   "id": "0662f6bf-a57a-43e3-9f29-f06282ac128f",
   "metadata": {},
   "outputs": [],
   "source": [
    "def handle_missing_data(df):\n",
    "    numeric_cols = df.select_dtypes(include=[np.number]).columns\n",
    "    for col in numeric_cols:\n",
    "        df[col].fillna(df[col].median(), inplace=True)\n",
    "    \n",
    "    categorical_cols = df.select_dtypes(include=['object']).columns\n",
    "    for col in categorical_cols:\n",
    "        df[col].fillna('Unknown', inplace=True)\n",
    "    \n",
    "    return df"
   ]
  },
  {
   "cell_type": "code",
   "execution_count": 98,
   "id": "2592f067-7c7a-4ec8-9bbc-b57c7da19ba4",
   "metadata": {},
   "outputs": [],
   "source": [
    "def encode_categorical_features(df):\n",
    "    le = LabelEncoder()\n",
    "    categorical_cols = df.select_dtypes(include=['object']).columns\n",
    "    \n",
    "    for col in categorical_cols:\n",
    "        df[col] = le.fit_transform(df[col].astype(str))\n",
    "    \n",
    "    return df"
   ]
  },
  {
   "cell_type": "code",
   "execution_count": 99,
   "id": "0dfe498b-80f8-44af-9226-b05158a08362",
   "metadata": {},
   "outputs": [
    {
     "data": {
      "text/plain": [
       "receipt_id                   int64\n",
       "start_hour                   int64\n",
       "start_day                    int64\n",
       "start_week                   int64\n",
       "start_weekday                int64\n",
       "warehouse_name              object\n",
       "supplier_id                 object\n",
       "inbnd_type                  object\n",
       "sku_category_level_4_nm     object\n",
       "sku_category_cnt           float64\n",
       "start_hour_sin             float64\n",
       "start_hour_cos             float64\n",
       "start_week_sin             float64\n",
       "start_week_cos             float64\n",
       "start_weekday_sin          float64\n",
       "start_weekday_cos          float64\n",
       "dtype: object"
      ]
     },
     "execution_count": 99,
     "metadata": {},
     "output_type": "execute_result"
    }
   ],
   "source": [
    "x_test.dtypes"
   ]
  },
  {
   "cell_type": "code",
   "execution_count": 100,
   "id": "f281b2de-bf38-43ed-9311-0bcea7952390",
   "metadata": {},
   "outputs": [],
   "source": [
    "x_test = handle_missing_data(x_test)\n",
    "x_test = encode_categorical_features(x_test)\n",
    "\n",
    "x_train = handle_missing_data(x_train)\n",
    "x_train = encode_categorical_features(x_train)"
   ]
  },
  {
   "cell_type": "code",
   "execution_count": 101,
   "id": "0d233081-1787-48ec-8292-f87a97b4fbc2",
   "metadata": {},
   "outputs": [],
   "source": [
    "def drop_colums(df):\n",
    "    df = df.drop(['receipt_id','supplier_id','start_hour','start_day', \\\n",
    "                  'start_week','start_weekday'], axis=1)\n",
    "    return df"
   ]
  },
  {
   "cell_type": "code",
   "execution_count": 102,
   "id": "2579889b-3a95-4147-9072-ce8d0112bd3a",
   "metadata": {},
   "outputs": [],
   "source": [
    "x_test = drop_colums(x_test)\n",
    "x_train = drop_colums(x_train)"
   ]
  },
  {
   "cell_type": "code",
   "execution_count": 103,
   "id": "e32e7547-f495-44c5-a58c-bc25377fd30a",
   "metadata": {},
   "outputs": [
    {
     "data": {
      "text/html": [
       "<div>\n",
       "<style scoped>\n",
       "    .dataframe tbody tr th:only-of-type {\n",
       "        vertical-align: middle;\n",
       "    }\n",
       "\n",
       "    .dataframe tbody tr th {\n",
       "        vertical-align: top;\n",
       "    }\n",
       "\n",
       "    .dataframe thead th {\n",
       "        text-align: right;\n",
       "    }\n",
       "</style>\n",
       "<table border=\"1\" class=\"dataframe\">\n",
       "  <thead>\n",
       "    <tr style=\"text-align: right;\">\n",
       "      <th></th>\n",
       "      <th>warehouse_name</th>\n",
       "      <th>inbnd_type</th>\n",
       "      <th>sku_category_level_4_nm</th>\n",
       "      <th>sku_category_cnt</th>\n",
       "      <th>start_hour_sin</th>\n",
       "      <th>start_hour_cos</th>\n",
       "      <th>start_week_sin</th>\n",
       "      <th>start_week_cos</th>\n",
       "      <th>start_weekday_sin</th>\n",
       "      <th>start_weekday_cos</th>\n",
       "    </tr>\n",
       "  </thead>\n",
       "  <tbody>\n",
       "    <tr>\n",
       "      <th>819</th>\n",
       "      <td>10</td>\n",
       "      <td>2</td>\n",
       "      <td>5</td>\n",
       "      <td>1134.0</td>\n",
       "      <td>9.659258e-01</td>\n",
       "      <td>2.588190e-01</td>\n",
       "      <td>-7.347881e-16</td>\n",
       "      <td>1.000000</td>\n",
       "      <td>0.354605</td>\n",
       "      <td>0.935016</td>\n",
       "    </tr>\n",
       "    <tr>\n",
       "      <th>1297</th>\n",
       "      <td>4</td>\n",
       "      <td>2</td>\n",
       "      <td>9</td>\n",
       "      <td>504.0</td>\n",
       "      <td>9.659258e-01</td>\n",
       "      <td>-2.588190e-01</td>\n",
       "      <td>7.818315e-01</td>\n",
       "      <td>0.623490</td>\n",
       "      <td>0.663123</td>\n",
       "      <td>0.748511</td>\n",
       "    </tr>\n",
       "    <tr>\n",
       "      <th>1464</th>\n",
       "      <td>5</td>\n",
       "      <td>2</td>\n",
       "      <td>24</td>\n",
       "      <td>36.0</td>\n",
       "      <td>8.660254e-01</td>\n",
       "      <td>5.000000e-01</td>\n",
       "      <td>9.749279e-01</td>\n",
       "      <td>-0.222521</td>\n",
       "      <td>0.239316</td>\n",
       "      <td>0.970942</td>\n",
       "    </tr>\n",
       "    <tr>\n",
       "      <th>1965</th>\n",
       "      <td>5</td>\n",
       "      <td>2</td>\n",
       "      <td>4</td>\n",
       "      <td>870.0</td>\n",
       "      <td>5.000000e-01</td>\n",
       "      <td>8.660254e-01</td>\n",
       "      <td>7.818315e-01</td>\n",
       "      <td>0.623490</td>\n",
       "      <td>0.464723</td>\n",
       "      <td>0.885456</td>\n",
       "    </tr>\n",
       "    <tr>\n",
       "      <th>1100</th>\n",
       "      <td>0</td>\n",
       "      <td>2</td>\n",
       "      <td>6</td>\n",
       "      <td>1824.0</td>\n",
       "      <td>8.660254e-01</td>\n",
       "      <td>-5.000000e-01</td>\n",
       "      <td>-7.818315e-01</td>\n",
       "      <td>0.623490</td>\n",
       "      <td>0.120537</td>\n",
       "      <td>0.992709</td>\n",
       "    </tr>\n",
       "    <tr>\n",
       "      <th>...</th>\n",
       "      <td>...</td>\n",
       "      <td>...</td>\n",
       "      <td>...</td>\n",
       "      <td>...</td>\n",
       "      <td>...</td>\n",
       "      <td>...</td>\n",
       "      <td>...</td>\n",
       "      <td>...</td>\n",
       "      <td>...</td>\n",
       "      <td>...</td>\n",
       "    </tr>\n",
       "    <tr>\n",
       "      <th>1140</th>\n",
       "      <td>9</td>\n",
       "      <td>2</td>\n",
       "      <td>18</td>\n",
       "      <td>168.0</td>\n",
       "      <td>2.588190e-01</td>\n",
       "      <td>-9.659258e-01</td>\n",
       "      <td>-1.224647e-15</td>\n",
       "      <td>1.000000</td>\n",
       "      <td>0.568065</td>\n",
       "      <td>0.822984</td>\n",
       "    </tr>\n",
       "    <tr>\n",
       "      <th>1306</th>\n",
       "      <td>6</td>\n",
       "      <td>2</td>\n",
       "      <td>9</td>\n",
       "      <td>1008.0</td>\n",
       "      <td>1.224647e-16</td>\n",
       "      <td>-1.000000e+00</td>\n",
       "      <td>-9.749279e-01</td>\n",
       "      <td>-0.222521</td>\n",
       "      <td>0.568065</td>\n",
       "      <td>0.822984</td>\n",
       "    </tr>\n",
       "    <tr>\n",
       "      <th>870</th>\n",
       "      <td>4</td>\n",
       "      <td>2</td>\n",
       "      <td>17</td>\n",
       "      <td>2160.0</td>\n",
       "      <td>1.000000e+00</td>\n",
       "      <td>6.123234e-17</td>\n",
       "      <td>7.818315e-01</td>\n",
       "      <td>0.623490</td>\n",
       "      <td>0.464723</td>\n",
       "      <td>0.885456</td>\n",
       "    </tr>\n",
       "    <tr>\n",
       "      <th>1471</th>\n",
       "      <td>8</td>\n",
       "      <td>2</td>\n",
       "      <td>9</td>\n",
       "      <td>504.0</td>\n",
       "      <td>7.071068e-01</td>\n",
       "      <td>7.071068e-01</td>\n",
       "      <td>9.749279e-01</td>\n",
       "      <td>-0.222521</td>\n",
       "      <td>0.000000</td>\n",
       "      <td>1.000000</td>\n",
       "    </tr>\n",
       "    <tr>\n",
       "      <th>1136</th>\n",
       "      <td>8</td>\n",
       "      <td>0</td>\n",
       "      <td>24</td>\n",
       "      <td>792.0</td>\n",
       "      <td>9.659258e-01</td>\n",
       "      <td>-2.588190e-01</td>\n",
       "      <td>7.818315e-01</td>\n",
       "      <td>0.623490</td>\n",
       "      <td>0.239316</td>\n",
       "      <td>0.970942</td>\n",
       "    </tr>\n",
       "  </tbody>\n",
       "</table>\n",
       "<p>1593 rows × 10 columns</p>\n",
       "</div>"
      ],
      "text/plain": [
       "      warehouse_name  inbnd_type  sku_category_level_4_nm  sku_category_cnt  \\\n",
       "819               10           2                        5            1134.0   \n",
       "1297               4           2                        9             504.0   \n",
       "1464               5           2                       24              36.0   \n",
       "1965               5           2                        4             870.0   \n",
       "1100               0           2                        6            1824.0   \n",
       "...              ...         ...                      ...               ...   \n",
       "1140               9           2                       18             168.0   \n",
       "1306               6           2                        9            1008.0   \n",
       "870                4           2                       17            2160.0   \n",
       "1471               8           2                        9             504.0   \n",
       "1136               8           0                       24             792.0   \n",
       "\n",
       "      start_hour_sin  start_hour_cos  start_week_sin  start_week_cos  \\\n",
       "819     9.659258e-01    2.588190e-01   -7.347881e-16        1.000000   \n",
       "1297    9.659258e-01   -2.588190e-01    7.818315e-01        0.623490   \n",
       "1464    8.660254e-01    5.000000e-01    9.749279e-01       -0.222521   \n",
       "1965    5.000000e-01    8.660254e-01    7.818315e-01        0.623490   \n",
       "1100    8.660254e-01   -5.000000e-01   -7.818315e-01        0.623490   \n",
       "...              ...             ...             ...             ...   \n",
       "1140    2.588190e-01   -9.659258e-01   -1.224647e-15        1.000000   \n",
       "1306    1.224647e-16   -1.000000e+00   -9.749279e-01       -0.222521   \n",
       "870     1.000000e+00    6.123234e-17    7.818315e-01        0.623490   \n",
       "1471    7.071068e-01    7.071068e-01    9.749279e-01       -0.222521   \n",
       "1136    9.659258e-01   -2.588190e-01    7.818315e-01        0.623490   \n",
       "\n",
       "      start_weekday_sin  start_weekday_cos  \n",
       "819            0.354605           0.935016  \n",
       "1297           0.663123           0.748511  \n",
       "1464           0.239316           0.970942  \n",
       "1965           0.464723           0.885456  \n",
       "1100           0.120537           0.992709  \n",
       "...                 ...                ...  \n",
       "1140           0.568065           0.822984  \n",
       "1306           0.568065           0.822984  \n",
       "870            0.464723           0.885456  \n",
       "1471           0.000000           1.000000  \n",
       "1136           0.239316           0.970942  \n",
       "\n",
       "[1593 rows x 10 columns]"
      ]
     },
     "execution_count": 103,
     "metadata": {},
     "output_type": "execute_result"
    }
   ],
   "source": [
    "x_train"
   ]
  },
  {
   "cell_type": "code",
   "execution_count": 104,
   "id": "2b8fbc84-a11f-4206-b21b-9992c4bc3980",
   "metadata": {},
   "outputs": [
    {
     "data": {
      "text/plain": [
       "819     2.027102\n",
       "1297    0.695436\n",
       "1464    0.112899\n",
       "1965    0.942657\n",
       "1100    2.403020\n",
       "          ...   \n",
       "1140    1.039218\n",
       "1306    2.173953\n",
       "870     3.151594\n",
       "1471    0.957070\n",
       "1136    2.019377\n",
       "Name: inbnd_duration_min, Length: 1593, dtype: float64"
      ]
     },
     "execution_count": 104,
     "metadata": {},
     "output_type": "execute_result"
    }
   ],
   "source": [
    "y_train_log"
   ]
  },
  {
   "cell_type": "markdown",
   "id": "7b3bd586-bac3-475d-bb91-244604be3b2d",
   "metadata": {},
   "source": [
    "## Обучение модели"
   ]
  },
  {
   "cell_type": "code",
   "execution_count": 105,
   "id": "9d06f63b-16d1-4e0e-9cf3-5d66bd8a63c4",
   "metadata": {},
   "outputs": [],
   "source": [
    "params = {\n",
    "    'boosting_type': 'gbdt',          # тип бустинга\n",
    "    'objective': 'regression',        # задача регрессии\n",
    "    'metric': 'mae',                  # метрика - средняя абсолютная ошибка\n",
    "    'num_leaves': 32,                 # максимальное количество листьев в дереве\n",
    "    'learning_rate': 0.02,            # скорость обучения\n",
    "    'feature_fraction': 0.9,          # доля признаков для использования на каждой итерации\n",
    "    'bagging_fraction': 0.8,          # доля данных для использования на каждой итерации\n",
    "    'bagging_freq': 5,                # частота bagging\n",
    "    'verbose': 0,                     # уровень детализации вывода\n",
    "    'random_state': 42,               # для воспроизводимости\n",
    "    'n_estimators': 2000,             # количество деревьев\n",
    "    'max_depth': -1,                  # глубина деревьев (-1 = без ограничений)\n",
    "    'min_data_in_leaf': 25,           # минимальное количество данных в листе\n",
    "}"
   ]
  },
  {
   "cell_type": "code",
   "execution_count": 106,
   "id": "5840e3e1-b558-4ef8-9a36-6c96bd98b3b5",
   "metadata": {},
   "outputs": [],
   "source": [
    "train_data = lgb.Dataset(x_train, label=y_train_log)\n",
    "test_data = lgb.Dataset(x_test, label=y_test_log, reference=train_data)"
   ]
  },
  {
   "cell_type": "code",
   "execution_count": 107,
   "id": "bf42646d-099b-41a1-9890-43477e2dbb26",
   "metadata": {},
   "outputs": [
    {
     "name": "stdout",
     "output_type": "stream",
     "text": [
      "Training until validation scores don't improve for 50 rounds\n",
      "[100]\tvalid_0's l1: 0.462114\n",
      "[200]\tvalid_0's l1: 0.440756\n",
      "[300]\tvalid_0's l1: 0.435019\n",
      "[400]\tvalid_0's l1: 0.430941\n",
      "Early stopping, best iteration is:\n",
      "[406]\tvalid_0's l1: 0.430629\n"
     ]
    }
   ],
   "source": [
    "# Обучение модели с ранней остановкой\n",
    "model = lgb.train(\n",
    "    params,\n",
    "    train_data,\n",
    "    num_boost_round=1000,\n",
    "    valid_sets=[test_data],\n",
    "    callbacks=[\n",
    "        lgb.early_stopping(stopping_rounds=50, verbose=True),\n",
    "        lgb.log_evaluation(100)\n",
    "    ]\n",
    ")"
   ]
  },
  {
   "cell_type": "code",
   "execution_count": 108,
   "id": "1c788011-8291-4406-a707-df496961aa07",
   "metadata": {},
   "outputs": [],
   "source": [
    "y_pred_log = model.predict(x_test)"
   ]
  },
  {
   "cell_type": "code",
   "execution_count": 109,
   "id": "cd270418-f67a-44b6-a505-5415ee24d0f1",
   "metadata": {},
   "outputs": [],
   "source": [
    "y_pred = np.expm1(y_pred_log)\n",
    "y_test = np.expm1(y_test_log)"
   ]
  },
  {
   "cell_type": "code",
   "execution_count": 110,
   "id": "aec3e264-f5ac-4e00-af85-41f15c3eaae1",
   "metadata": {},
   "outputs": [
    {
     "name": "stdout",
     "output_type": "stream",
     "text": [
      "MAE (Средняя абсолютная ошибка): 4.10 минут\n",
      "MSE (Средняя квадратичная ошибка): 168.44\n",
      "RMSE (Корень из MSE): 12.98 минут\n",
      "R² (Коэффициент детерминации): 0.1399\n"
     ]
    }
   ],
   "source": [
    "# Метрики качества\n",
    "print(f\"MAE (Средняя абсолютная ошибка): {mean_absolute_error(y_test, y_pred):.2f} минут\")\n",
    "print(f\"MSE (Средняя квадратичная ошибка): {mean_squared_error(y_test, y_pred):.2f}\")\n",
    "print(f\"RMSE (Корень из MSE): {np.sqrt(mean_squared_error(y_test, y_pred)):.2f} минут\")\n",
    "print(f\"R² (Коэффициент детерминации): {r2_score(y_test, y_pred):.4f}\")"
   ]
  },
  {
   "cell_type": "markdown",
   "id": "0fe3ac5b-4bb1-4922-9361-2e4d4bc5f153",
   "metadata": {},
   "source": [
    "## Важность признаков"
   ]
  },
  {
   "cell_type": "code",
   "execution_count": 111,
   "id": "e1795aa1-3aeb-42c5-b95a-5934674731a5",
   "metadata": {},
   "outputs": [
    {
     "name": "stdout",
     "output_type": "stream",
     "text": [
      "\n",
      "ТОП-15 ВАЖНЕЙШИХ ПРИЗНАКОВ:\n",
      "                   feature  importance\n",
      "3         sku_category_cnt        3068\n",
      "2  sku_category_level_4_nm        1791\n",
      "0           warehouse_name        1556\n",
      "6           start_week_sin        1508\n",
      "8        start_weekday_sin        1183\n",
      "7           start_week_cos        1145\n",
      "5           start_hour_cos        1049\n",
      "4           start_hour_sin         986\n",
      "1               inbnd_type         172\n",
      "9        start_weekday_cos         128\n"
     ]
    }
   ],
   "source": [
    "# 8. ВАЖНОСТЬ ПРИЗНАКОВ\n",
    "feature_importance = pd.DataFrame({\n",
    "    'feature': x_train.columns,\n",
    "    'importance': model.feature_importance()\n",
    "}).sort_values('importance', ascending=False)\n",
    "\n",
    "print(\"\\nТОП-15 ВАЖНЕЙШИХ ПРИЗНАКОВ:\")\n",
    "print(feature_importance.head(15))"
   ]
  },
  {
   "cell_type": "code",
   "execution_count": 85,
   "id": "4bc9f4dc-efec-4e18-927c-231e30080ece",
   "metadata": {},
   "outputs": [
    {
     "data": {
      "image/png": "[encoded data removed]",
      "text/plain": [
       "<Figure size 800x400 with 1 Axes>"
      ]
     },
     "metadata": {},
     "output_type": "display_data"
    }
   ],
   "source": [
    "# 9. ВИЗУАЛИЗАЦИЯ ПРЕДСКАЗАНИЙ vs РЕАЛЬНЫЕ ЗНАЧЕНИЯ\n",
    "plt.figure(figsize=(8, 4))\n",
    "plt.scatter(y_test, y_pred, alpha=0.5)\n",
    "plt.plot([y_test.min(), y_test.max()], [y_test.min(), y_test.max()], 'r--', lw=2)\n",
    "plt.xlabel('Реальные значения времени (минуты)')\n",
    "plt.ylabel('Предсказанные значения времени (минуты)')\n",
    "plt.title('Предсказания vs Реальные значения')\n",
    "plt.show()"
   ]
  },
  {
   "cell_type": "code",
   "execution_count": 58,
   "id": "35097352-2f08-4b6f-8ed0-7edc2612dccc",
   "metadata": {},
   "outputs": [
    {
     "data": {
      "image/png": "[encoded data removed]",
      "text/plain": [
       "<Figure size 800x400 with 1 Axes>"
      ]
     },
     "metadata": {},
     "output_type": "display_data"
    }
   ],
   "source": [
    "# 10. АНАЛИЗ ОШИБОК\n",
    "errors = y_test - y_pred\n",
    "plt.figure(figsize=(8, 4))\n",
    "sns.histplot(errors, kde=True)\n",
    "plt.title('Распределение ошибок предсказания')\n",
    "plt.xlabel('Ошибка (минуты)')\n",
    "plt.show()"
   ]
  },
  {
   "cell_type": "code",
   "execution_count": 59,
   "id": "0e5c9889-82fe-429d-8863-7d92a75281ab",
   "metadata": {},
   "outputs": [
    {
     "name": "stdout",
     "output_type": "stream",
     "text": [
      "Файл сохранен: predictions_results_level3.csv\n",
      "Количество строк: 399\n"
     ]
    }
   ],
   "source": [
    "# Создаем DataFrame с результатами\n",
    "#results_df = x_test.copy()\n",
    "results_df = original_data.loc[test_indices].copy()\n",
    "\n",
    "# Добавляем предсказания и фактические значения\n",
    "results_df['predicted_time'] = y_pred\n",
    "results_df['actual_time'] = y_test\n",
    "\n",
    "# Вычисляем ошибку\n",
    "results_df['error'] = results_df['predicted_time'] - results_df['actual_time']\n",
    "\n",
    "# Сохраняем в CSV\n",
    "results_df.to_csv('predictions_results_level3.csv', index=False, encoding='utf-8-sig')\n",
    "\n",
    "print(\"Файл сохранен: predictions_results_level3.csv\")\n",
    "print(f\"Количество строк: {len(results_df)}\")"
   ]
  },
  {
   "cell_type": "code",
   "execution_count": null,
   "id": "ab8cd178-c2f2-4406-8017-8a6945996b8e",
   "metadata": {},
   "outputs": [],
   "source": []
  }
 ],
 "metadata": {
  "kernelspec": {
   "display_name": "Python 3 (ipykernel)",
   "language": "python",
   "name": "python3"
  },
  "language_info": {
   "codemirror_mode": {
    "name": "ipython",
    "version": 3
   },
   "file_extension": ".py",
   "mimetype": "text/x-python",
   "name": "python",
   "nbconvert_exporter": "python",
   "pygments_lexer": "ipython3",
   "version": "3.13.5"
  }
 },
 "nbformat": 4,
 "nbformat_minor": 5
}
